{
  "nbformat": 4,
  "nbformat_minor": 0,
  "metadata": {
    "colab": {
      "name": "Arima(EG)",
      "provenance": [],
      "collapsed_sections": []
    },
    "kernelspec": {
      "name": "python3",
      "display_name": "Python 3"
    }
  },
  "cells": [
    {
      "cell_type": "code",
      "metadata": {
        "id": "RrDvwX3IR9P0"
      },
      "source": [
        "# TIME SERIES FORECASTING"
      ],
      "execution_count": 1,
      "outputs": []
    },
    {
      "cell_type": "code",
      "metadata": {
        "id": "7WlM5yMmW63y"
      },
      "source": [
        "import pandas as pd\r\n",
        "import datetime as dt\r\n",
        "import requests\r\n",
        "import seaborn as sns\r\n",
        "import matplotlib.pyplot as plt\r\n",
        "import numpy as np\r\n",
        "import plotly.express as px"
      ],
      "execution_count": 43,
      "outputs": []
    },
    {
      "cell_type": "code",
      "metadata": {
        "id": "VLag9eUCW_4G"
      },
      "source": [
        "df = pd.read_csv('/content/census.csv')"
      ],
      "execution_count": 41,
      "outputs": []
    },
    {
      "cell_type": "code",
      "metadata": {
        "colab": {
          "base_uri": "https://localhost:8080/",
          "height": 195
        },
        "id": "KKSkVbkiZAcq",
        "outputId": "e3470dd5-e30a-4bb0-df1f-4dccb37f899a"
      },
      "source": [
        "df.head()"
      ],
      "execution_count": 42,
      "outputs": [
        {
          "output_type": "execute_result",
          "data": {
            "text/html": [
              "<div>\n",
              "<style scoped>\n",
              "    .dataframe tbody tr th:only-of-type {\n",
              "        vertical-align: middle;\n",
              "    }\n",
              "\n",
              "    .dataframe tbody tr th {\n",
              "        vertical-align: top;\n",
              "    }\n",
              "\n",
              "    .dataframe thead th {\n",
              "        text-align: right;\n",
              "    }\n",
              "</style>\n",
              "<table border=\"1\" class=\"dataframe\">\n",
              "  <thead>\n",
              "    <tr style=\"text-align: right;\">\n",
              "      <th></th>\n",
              "      <th>Unnamed: 0</th>\n",
              "      <th>District</th>\n",
              "      <th>State</th>\n",
              "      <th>Population</th>\n",
              "      <th>Growth</th>\n",
              "      <th>Sex-Ratio</th>\n",
              "      <th>Literacy</th>\n",
              "    </tr>\n",
              "  </thead>\n",
              "  <tbody>\n",
              "    <tr>\n",
              "      <th>0</th>\n",
              "      <td>1</td>\n",
              "      <td>Thane</td>\n",
              "      <td>Maharashtra</td>\n",
              "      <td>11060148</td>\n",
              "      <td>0.3601</td>\n",
              "      <td>886</td>\n",
              "      <td>84.53</td>\n",
              "    </tr>\n",
              "    <tr>\n",
              "      <th>1</th>\n",
              "      <td>2</td>\n",
              "      <td>North Twenty Four Parganas</td>\n",
              "      <td>West Bengal</td>\n",
              "      <td>10009781</td>\n",
              "      <td>0.1204</td>\n",
              "      <td>955</td>\n",
              "      <td>84.06</td>\n",
              "    </tr>\n",
              "    <tr>\n",
              "      <th>2</th>\n",
              "      <td>3</td>\n",
              "      <td>Bangalore</td>\n",
              "      <td>Karnataka</td>\n",
              "      <td>9621551</td>\n",
              "      <td>0.4718</td>\n",
              "      <td>916</td>\n",
              "      <td>87.67</td>\n",
              "    </tr>\n",
              "    <tr>\n",
              "      <th>3</th>\n",
              "      <td>4</td>\n",
              "      <td>Pune</td>\n",
              "      <td>Maharashtra</td>\n",
              "      <td>9429408</td>\n",
              "      <td>0.3037</td>\n",
              "      <td>915</td>\n",
              "      <td>86.15</td>\n",
              "    </tr>\n",
              "    <tr>\n",
              "      <th>4</th>\n",
              "      <td>5</td>\n",
              "      <td>Mumbai Suburban</td>\n",
              "      <td>Maharashtra</td>\n",
              "      <td>9356962</td>\n",
              "      <td>0.0829</td>\n",
              "      <td>860</td>\n",
              "      <td>89.91</td>\n",
              "    </tr>\n",
              "  </tbody>\n",
              "</table>\n",
              "</div>"
            ],
            "text/plain": [
              "   Unnamed: 0                    District  ... Sex-Ratio  Literacy\n",
              "0           1                       Thane  ...       886     84.53\n",
              "1           2  North Twenty Four Parganas  ...       955     84.06\n",
              "2           3                   Bangalore  ...       916     87.67\n",
              "3           4                        Pune  ...       915     86.15\n",
              "4           5             Mumbai Suburban  ...       860     89.91\n",
              "\n",
              "[5 rows x 7 columns]"
            ]
          },
          "metadata": {
            "tags": []
          },
          "execution_count": 42
        }
      ]
    },
    {
      "cell_type": "code",
      "metadata": {
        "colab": {
          "base_uri": "https://localhost:8080/",
          "height": 452
        },
        "id": "5rgGJzQdZN2f",
        "outputId": "ca7b3d6f-3d17-4f15-c10c-60097d7668fb"
      },
      "source": [
        "df['update pop'] = (df['Population'] * 11.2/100) + df['Population']\r\n",
        "df['50% for herd immunity'] = df['update pop']/2\r\n",
        "df"
      ],
      "execution_count": 6,
      "outputs": [
        {
          "output_type": "execute_result",
          "data": {
            "text/html": [
              "<div>\n",
              "<style scoped>\n",
              "    .dataframe tbody tr th:only-of-type {\n",
              "        vertical-align: middle;\n",
              "    }\n",
              "\n",
              "    .dataframe tbody tr th {\n",
              "        vertical-align: top;\n",
              "    }\n",
              "\n",
              "    .dataframe thead th {\n",
              "        text-align: right;\n",
              "    }\n",
              "</style>\n",
              "<table border=\"1\" class=\"dataframe\">\n",
              "  <thead>\n",
              "    <tr style=\"text-align: right;\">\n",
              "      <th></th>\n",
              "      <th>Unnamed: 0</th>\n",
              "      <th>District</th>\n",
              "      <th>State</th>\n",
              "      <th>Population</th>\n",
              "      <th>Growth</th>\n",
              "      <th>Sex-Ratio</th>\n",
              "      <th>Literacy</th>\n",
              "      <th>update pop</th>\n",
              "      <th>50% for herd immunity</th>\n",
              "    </tr>\n",
              "  </thead>\n",
              "  <tbody>\n",
              "    <tr>\n",
              "      <th>0</th>\n",
              "      <td>1</td>\n",
              "      <td>Thane</td>\n",
              "      <td>Maharashtra</td>\n",
              "      <td>11060148</td>\n",
              "      <td>0.3601</td>\n",
              "      <td>886</td>\n",
              "      <td>84.53</td>\n",
              "      <td>1.229888e+07</td>\n",
              "      <td>6149442.288</td>\n",
              "    </tr>\n",
              "    <tr>\n",
              "      <th>1</th>\n",
              "      <td>2</td>\n",
              "      <td>North Twenty Four Parganas</td>\n",
              "      <td>West Bengal</td>\n",
              "      <td>10009781</td>\n",
              "      <td>0.1204</td>\n",
              "      <td>955</td>\n",
              "      <td>84.06</td>\n",
              "      <td>1.113088e+07</td>\n",
              "      <td>5565438.236</td>\n",
              "    </tr>\n",
              "    <tr>\n",
              "      <th>2</th>\n",
              "      <td>3</td>\n",
              "      <td>Bangalore</td>\n",
              "      <td>Karnataka</td>\n",
              "      <td>9621551</td>\n",
              "      <td>0.4718</td>\n",
              "      <td>916</td>\n",
              "      <td>87.67</td>\n",
              "      <td>1.069916e+07</td>\n",
              "      <td>5349582.356</td>\n",
              "    </tr>\n",
              "    <tr>\n",
              "      <th>3</th>\n",
              "      <td>4</td>\n",
              "      <td>Pune</td>\n",
              "      <td>Maharashtra</td>\n",
              "      <td>9429408</td>\n",
              "      <td>0.3037</td>\n",
              "      <td>915</td>\n",
              "      <td>86.15</td>\n",
              "      <td>1.048550e+07</td>\n",
              "      <td>5242750.848</td>\n",
              "    </tr>\n",
              "    <tr>\n",
              "      <th>4</th>\n",
              "      <td>5</td>\n",
              "      <td>Mumbai Suburban</td>\n",
              "      <td>Maharashtra</td>\n",
              "      <td>9356962</td>\n",
              "      <td>0.0829</td>\n",
              "      <td>860</td>\n",
              "      <td>89.91</td>\n",
              "      <td>1.040494e+07</td>\n",
              "      <td>5202470.872</td>\n",
              "    </tr>\n",
              "    <tr>\n",
              "      <th>...</th>\n",
              "      <td>...</td>\n",
              "      <td>...</td>\n",
              "      <td>...</td>\n",
              "      <td>...</td>\n",
              "      <td>...</td>\n",
              "      <td>...</td>\n",
              "      <td>...</td>\n",
              "      <td>...</td>\n",
              "      <td>...</td>\n",
              "    </tr>\n",
              "    <tr>\n",
              "      <th>635</th>\n",
              "      <td>636</td>\n",
              "      <td>Nicobars</td>\n",
              "      <td>Andaman And Nicobar Islands</td>\n",
              "      <td>36842</td>\n",
              "      <td>-0.1242</td>\n",
              "      <td>777</td>\n",
              "      <td>78.06</td>\n",
              "      <td>4.096830e+04</td>\n",
              "      <td>20484.152</td>\n",
              "    </tr>\n",
              "    <tr>\n",
              "      <th>636</th>\n",
              "      <td>637</td>\n",
              "      <td>Upper Siang</td>\n",
              "      <td>Arunachal Pradesh</td>\n",
              "      <td>35320</td>\n",
              "      <td>0.0587</td>\n",
              "      <td>889</td>\n",
              "      <td>59.99</td>\n",
              "      <td>3.927584e+04</td>\n",
              "      <td>19637.920</td>\n",
              "    </tr>\n",
              "    <tr>\n",
              "      <th>637</th>\n",
              "      <td>638</td>\n",
              "      <td>Lahul and Spiti</td>\n",
              "      <td>Himachal Pradesh</td>\n",
              "      <td>31564</td>\n",
              "      <td>-0.0500</td>\n",
              "      <td>903</td>\n",
              "      <td>76.81</td>\n",
              "      <td>3.509917e+04</td>\n",
              "      <td>17549.584</td>\n",
              "    </tr>\n",
              "    <tr>\n",
              "      <th>638</th>\n",
              "      <td>639</td>\n",
              "      <td>Anjaw</td>\n",
              "      <td>Arunachal Pradesh</td>\n",
              "      <td>21167</td>\n",
              "      <td>0.1419</td>\n",
              "      <td>839</td>\n",
              "      <td>56.46</td>\n",
              "      <td>2.353770e+04</td>\n",
              "      <td>11768.852</td>\n",
              "    </tr>\n",
              "    <tr>\n",
              "      <th>639</th>\n",
              "      <td>640</td>\n",
              "      <td>Dibang Valley</td>\n",
              "      <td>Arunachal Pradesh</td>\n",
              "      <td>8004</td>\n",
              "      <td>0.1007</td>\n",
              "      <td>813</td>\n",
              "      <td>64.10</td>\n",
              "      <td>8.900448e+03</td>\n",
              "      <td>4450.224</td>\n",
              "    </tr>\n",
              "  </tbody>\n",
              "</table>\n",
              "<p>640 rows × 9 columns</p>\n",
              "</div>"
            ],
            "text/plain": [
              "     Unnamed: 0  ... 50% for herd immunity\n",
              "0             1  ...           6149442.288\n",
              "1             2  ...           5565438.236\n",
              "2             3  ...           5349582.356\n",
              "3             4  ...           5242750.848\n",
              "4             5  ...           5202470.872\n",
              "..          ...  ...                   ...\n",
              "635         636  ...             20484.152\n",
              "636         637  ...             19637.920\n",
              "637         638  ...             17549.584\n",
              "638         639  ...             11768.852\n",
              "639         640  ...              4450.224\n",
              "\n",
              "[640 rows x 9 columns]"
            ]
          },
          "metadata": {
            "tags": []
          },
          "execution_count": 6
        }
      ]
    },
    {
      "cell_type": "code",
      "metadata": {
        "colab": {
          "base_uri": "https://localhost:8080/",
          "height": 745
        },
        "id": "tFA65yecoX4A",
        "outputId": "5df25371-f8c6-4cfd-d773-2bb788a5dc66"
      },
      "source": [
        "a2 = pd.DataFrame()\r\n",
        "for i in range(len(df)):\r\n",
        "    if df.iloc[i]['State'] == 'Andhra Pradesh':\r\n",
        "        a2 = a2.append(df.iloc[i])\r\n",
        "\r\n",
        "print(len(a2))\r\n",
        "a2"
      ],
      "execution_count": 7,
      "outputs": [
        {
          "output_type": "stream",
          "text": [
            "23\n"
          ],
          "name": "stdout"
        },
        {
          "output_type": "execute_result",
          "data": {
            "text/html": [
              "<div>\n",
              "<style scoped>\n",
              "    .dataframe tbody tr th:only-of-type {\n",
              "        vertical-align: middle;\n",
              "    }\n",
              "\n",
              "    .dataframe tbody tr th {\n",
              "        vertical-align: top;\n",
              "    }\n",
              "\n",
              "    .dataframe thead th {\n",
              "        text-align: right;\n",
              "    }\n",
              "</style>\n",
              "<table border=\"1\" class=\"dataframe\">\n",
              "  <thead>\n",
              "    <tr style=\"text-align: right;\">\n",
              "      <th></th>\n",
              "      <th>50% for herd immunity</th>\n",
              "      <th>District</th>\n",
              "      <th>Growth</th>\n",
              "      <th>Literacy</th>\n",
              "      <th>Population</th>\n",
              "      <th>Sex-Ratio</th>\n",
              "      <th>State</th>\n",
              "      <th>Unnamed: 0</th>\n",
              "      <th>update pop</th>\n",
              "    </tr>\n",
              "  </thead>\n",
              "  <tbody>\n",
              "    <tr>\n",
              "      <th>16</th>\n",
              "      <td>2944987.996</td>\n",
              "      <td>Rangareddy</td>\n",
              "      <td>0.4816</td>\n",
              "      <td>75.87</td>\n",
              "      <td>5296741.0</td>\n",
              "      <td>961.0</td>\n",
              "      <td>Andhra Pradesh</td>\n",
              "      <td>17.0</td>\n",
              "      <td>5889975.992</td>\n",
              "    </tr>\n",
              "    <tr>\n",
              "      <th>18</th>\n",
              "      <td>2865788.576</td>\n",
              "      <td>East Godavari</td>\n",
              "      <td>0.0516</td>\n",
              "      <td>70.99</td>\n",
              "      <td>5154296.0</td>\n",
              "      <td>1006.0</td>\n",
              "      <td>Andhra Pradesh</td>\n",
              "      <td>19.0</td>\n",
              "      <td>5731577.152</td>\n",
              "    </tr>\n",
              "    <tr>\n",
              "      <th>21</th>\n",
              "      <td>2717624.028</td>\n",
              "      <td>Guntur</td>\n",
              "      <td>0.0947</td>\n",
              "      <td>67.40</td>\n",
              "      <td>4887813.0</td>\n",
              "      <td>1003.0</td>\n",
              "      <td>Andhra Pradesh</td>\n",
              "      <td>22.0</td>\n",
              "      <td>5435248.056</td>\n",
              "    </tr>\n",
              "    <tr>\n",
              "      <th>33</th>\n",
              "      <td>2511673.288</td>\n",
              "      <td>Krishna</td>\n",
              "      <td>0.0787</td>\n",
              "      <td>73.74</td>\n",
              "      <td>4517398.0</td>\n",
              "      <td>992.0</td>\n",
              "      <td>Andhra Pradesh</td>\n",
              "      <td>34.0</td>\n",
              "      <td>5023346.576</td>\n",
              "    </tr>\n",
              "    <tr>\n",
              "      <th>43</th>\n",
              "      <td>2385567.484</td>\n",
              "      <td>Visakhapatnam</td>\n",
              "      <td>0.1196</td>\n",
              "      <td>66.91</td>\n",
              "      <td>4290589.0</td>\n",
              "      <td>1006.0</td>\n",
              "      <td>Andhra Pradesh</td>\n",
              "      <td>44.0</td>\n",
              "      <td>4771134.968</td>\n",
              "    </tr>\n",
              "    <tr>\n",
              "      <th>46</th>\n",
              "      <td>2320779.584</td>\n",
              "      <td>Chittoor</td>\n",
              "      <td>0.1143</td>\n",
              "      <td>71.53</td>\n",
              "      <td>4174064.0</td>\n",
              "      <td>997.0</td>\n",
              "      <td>Andhra Pradesh</td>\n",
              "      <td>47.0</td>\n",
              "      <td>4641559.168</td>\n",
              "    </tr>\n",
              "    <tr>\n",
              "      <th>51</th>\n",
              "      <td>2269118.288</td>\n",
              "      <td>Anantapur</td>\n",
              "      <td>0.1210</td>\n",
              "      <td>63.57</td>\n",
              "      <td>4081148.0</td>\n",
              "      <td>977.0</td>\n",
              "      <td>Andhra Pradesh</td>\n",
              "      <td>52.0</td>\n",
              "      <td>4538236.576</td>\n",
              "    </tr>\n",
              "    <tr>\n",
              "      <th>53</th>\n",
              "      <td>2253725.428</td>\n",
              "      <td>Kurnool</td>\n",
              "      <td>0.1485</td>\n",
              "      <td>59.97</td>\n",
              "      <td>4053463.0</td>\n",
              "      <td>988.0</td>\n",
              "      <td>Andhra Pradesh</td>\n",
              "      <td>54.0</td>\n",
              "      <td>4507450.856</td>\n",
              "    </tr>\n",
              "    <tr>\n",
              "      <th>54</th>\n",
              "      <td>2253483.568</td>\n",
              "      <td>Mahbubnagar</td>\n",
              "      <td>0.1534</td>\n",
              "      <td>55.04</td>\n",
              "      <td>4053028.0</td>\n",
              "      <td>977.0</td>\n",
              "      <td>Andhra Pradesh</td>\n",
              "      <td>55.0</td>\n",
              "      <td>4506967.136</td>\n",
              "    </tr>\n",
              "    <tr>\n",
              "      <th>59</th>\n",
              "      <td>2192487.588</td>\n",
              "      <td>Hyderabad</td>\n",
              "      <td>0.0297</td>\n",
              "      <td>83.25</td>\n",
              "      <td>3943323.0</td>\n",
              "      <td>954.0</td>\n",
              "      <td>Andhra Pradesh</td>\n",
              "      <td>60.0</td>\n",
              "      <td>4384975.176</td>\n",
              "    </tr>\n",
              "    <tr>\n",
              "      <th>61</th>\n",
              "      <td>2188953.096</td>\n",
              "      <td>West Godavari</td>\n",
              "      <td>0.0351</td>\n",
              "      <td>74.63</td>\n",
              "      <td>3936966.0</td>\n",
              "      <td>1004.0</td>\n",
              "      <td>Andhra Pradesh</td>\n",
              "      <td>62.0</td>\n",
              "      <td>4377906.192</td>\n",
              "    </tr>\n",
              "    <tr>\n",
              "      <th>68</th>\n",
              "      <td>2099605.564</td>\n",
              "      <td>Karimnagar</td>\n",
              "      <td>0.0815</td>\n",
              "      <td>64.15</td>\n",
              "      <td>3776269.0</td>\n",
              "      <td>1008.0</td>\n",
              "      <td>Andhra Pradesh</td>\n",
              "      <td>69.0</td>\n",
              "      <td>4199211.128</td>\n",
              "    </tr>\n",
              "    <tr>\n",
              "      <th>82</th>\n",
              "      <td>1952992.256</td>\n",
              "      <td>Warangal</td>\n",
              "      <td>0.0821</td>\n",
              "      <td>65.11</td>\n",
              "      <td>3512576.0</td>\n",
              "      <td>997.0</td>\n",
              "      <td>Andhra Pradesh</td>\n",
              "      <td>83.0</td>\n",
              "      <td>3905984.512</td>\n",
              "    </tr>\n",
              "    <tr>\n",
              "      <th>87</th>\n",
              "      <td>1939777.804</td>\n",
              "      <td>Nalgonda</td>\n",
              "      <td>0.0741</td>\n",
              "      <td>64.20</td>\n",
              "      <td>3488809.0</td>\n",
              "      <td>983.0</td>\n",
              "      <td>Andhra Pradesh</td>\n",
              "      <td>88.0</td>\n",
              "      <td>3879555.608</td>\n",
              "    </tr>\n",
              "    <tr>\n",
              "      <th>97</th>\n",
              "      <td>1888981.088</td>\n",
              "      <td>Prakasam</td>\n",
              "      <td>0.1105</td>\n",
              "      <td>63.08</td>\n",
              "      <td>3397448.0</td>\n",
              "      <td>981.0</td>\n",
              "      <td>Andhra Pradesh</td>\n",
              "      <td>98.0</td>\n",
              "      <td>3777962.176</td>\n",
              "    </tr>\n",
              "    <tr>\n",
              "      <th>120</th>\n",
              "      <td>1686508.128</td>\n",
              "      <td>Medak</td>\n",
              "      <td>0.1360</td>\n",
              "      <td>61.42</td>\n",
              "      <td>3033288.0</td>\n",
              "      <td>992.0</td>\n",
              "      <td>Andhra Pradesh</td>\n",
              "      <td>121.0</td>\n",
              "      <td>3373016.256</td>\n",
              "    </tr>\n",
              "    <tr>\n",
              "      <th>126</th>\n",
              "      <td>1647737.692</td>\n",
              "      <td>Sri Potti Sriramulu Nellore</td>\n",
              "      <td>0.1105</td>\n",
              "      <td>68.90</td>\n",
              "      <td>2963557.0</td>\n",
              "      <td>985.0</td>\n",
              "      <td>Andhra Pradesh</td>\n",
              "      <td>127.0</td>\n",
              "      <td>3295475.384</td>\n",
              "    </tr>\n",
              "    <tr>\n",
              "      <th>131</th>\n",
              "      <td>1602652.764</td>\n",
              "      <td>YSR</td>\n",
              "      <td>0.1079</td>\n",
              "      <td>67.30</td>\n",
              "      <td>2882469.0</td>\n",
              "      <td>985.0</td>\n",
              "      <td>Andhra Pradesh</td>\n",
              "      <td>132.0</td>\n",
              "      <td>3205305.528</td>\n",
              "    </tr>\n",
              "    <tr>\n",
              "      <th>139</th>\n",
              "      <td>1555337.720</td>\n",
              "      <td>Khammam</td>\n",
              "      <td>0.0847</td>\n",
              "      <td>64.81</td>\n",
              "      <td>2797370.0</td>\n",
              "      <td>1011.0</td>\n",
              "      <td>Andhra Pradesh</td>\n",
              "      <td>140.0</td>\n",
              "      <td>3110675.440</td>\n",
              "    </tr>\n",
              "    <tr>\n",
              "      <th>142</th>\n",
              "      <td>1524128.884</td>\n",
              "      <td>Adilabad</td>\n",
              "      <td>0.1018</td>\n",
              "      <td>61.01</td>\n",
              "      <td>2741239.0</td>\n",
              "      <td>1001.0</td>\n",
              "      <td>Andhra Pradesh</td>\n",
              "      <td>143.0</td>\n",
              "      <td>3048257.768</td>\n",
              "    </tr>\n",
              "    <tr>\n",
              "      <th>146</th>\n",
              "      <td>1502931.384</td>\n",
              "      <td>Srikakulam</td>\n",
              "      <td>0.0652</td>\n",
              "      <td>61.74</td>\n",
              "      <td>2703114.0</td>\n",
              "      <td>1015.0</td>\n",
              "      <td>Andhra Pradesh</td>\n",
              "      <td>147.0</td>\n",
              "      <td>3005862.768</td>\n",
              "    </tr>\n",
              "    <tr>\n",
              "      <th>164</th>\n",
              "      <td>1418542.260</td>\n",
              "      <td>Nizamabad</td>\n",
              "      <td>0.0877</td>\n",
              "      <td>61.25</td>\n",
              "      <td>2551335.0</td>\n",
              "      <td>1040.0</td>\n",
              "      <td>Andhra Pradesh</td>\n",
              "      <td>165.0</td>\n",
              "      <td>2837084.520</td>\n",
              "    </tr>\n",
              "    <tr>\n",
              "      <th>192</th>\n",
              "      <td>1303527.544</td>\n",
              "      <td>Vizianagaram</td>\n",
              "      <td>0.0423</td>\n",
              "      <td>58.89</td>\n",
              "      <td>2344474.0</td>\n",
              "      <td>1019.0</td>\n",
              "      <td>Andhra Pradesh</td>\n",
              "      <td>193.0</td>\n",
              "      <td>2607055.088</td>\n",
              "    </tr>\n",
              "  </tbody>\n",
              "</table>\n",
              "</div>"
            ],
            "text/plain": [
              "     50% for herd immunity  ...   update pop\n",
              "16             2944987.996  ...  5889975.992\n",
              "18             2865788.576  ...  5731577.152\n",
              "21             2717624.028  ...  5435248.056\n",
              "33             2511673.288  ...  5023346.576\n",
              "43             2385567.484  ...  4771134.968\n",
              "46             2320779.584  ...  4641559.168\n",
              "51             2269118.288  ...  4538236.576\n",
              "53             2253725.428  ...  4507450.856\n",
              "54             2253483.568  ...  4506967.136\n",
              "59             2192487.588  ...  4384975.176\n",
              "61             2188953.096  ...  4377906.192\n",
              "68             2099605.564  ...  4199211.128\n",
              "82             1952992.256  ...  3905984.512\n",
              "87             1939777.804  ...  3879555.608\n",
              "97             1888981.088  ...  3777962.176\n",
              "120            1686508.128  ...  3373016.256\n",
              "126            1647737.692  ...  3295475.384\n",
              "131            1602652.764  ...  3205305.528\n",
              "139            1555337.720  ...  3110675.440\n",
              "142            1524128.884  ...  3048257.768\n",
              "146            1502931.384  ...  3005862.768\n",
              "164            1418542.260  ...  2837084.520\n",
              "192            1303527.544  ...  2607055.088\n",
              "\n",
              "[23 rows x 9 columns]"
            ]
          },
          "metadata": {
            "tags": []
          },
          "execution_count": 7
        }
      ]
    },
    {
      "cell_type": "code",
      "metadata": {
        "colab": {
          "base_uri": "https://localhost:8080/",
          "height": 402
        },
        "id": "XcA97SbWoc9T",
        "outputId": "136ae0d2-4fe2-421d-dfa0-95490bc582f3"
      },
      "source": [
        "data1 = pd.read_csv(\"https://api.covid19india.org/csv/latest/districts.csv\")\r\n",
        "data1"
      ],
      "execution_count": 8,
      "outputs": [
        {
          "output_type": "execute_result",
          "data": {
            "text/html": [
              "<div>\n",
              "<style scoped>\n",
              "    .dataframe tbody tr th:only-of-type {\n",
              "        vertical-align: middle;\n",
              "    }\n",
              "\n",
              "    .dataframe tbody tr th {\n",
              "        vertical-align: top;\n",
              "    }\n",
              "\n",
              "    .dataframe thead th {\n",
              "        text-align: right;\n",
              "    }\n",
              "</style>\n",
              "<table border=\"1\" class=\"dataframe\">\n",
              "  <thead>\n",
              "    <tr style=\"text-align: right;\">\n",
              "      <th></th>\n",
              "      <th>Date</th>\n",
              "      <th>State</th>\n",
              "      <th>District</th>\n",
              "      <th>Confirmed</th>\n",
              "      <th>Recovered</th>\n",
              "      <th>Deceased</th>\n",
              "      <th>Other</th>\n",
              "      <th>Tested</th>\n",
              "    </tr>\n",
              "  </thead>\n",
              "  <tbody>\n",
              "    <tr>\n",
              "      <th>0</th>\n",
              "      <td>2020-04-26</td>\n",
              "      <td>Andaman and Nicobar Islands</td>\n",
              "      <td>Unknown</td>\n",
              "      <td>33</td>\n",
              "      <td>11</td>\n",
              "      <td>0</td>\n",
              "      <td>0</td>\n",
              "      <td>2679.0</td>\n",
              "    </tr>\n",
              "    <tr>\n",
              "      <th>1</th>\n",
              "      <td>2020-04-26</td>\n",
              "      <td>Andhra Pradesh</td>\n",
              "      <td>Anantapur</td>\n",
              "      <td>53</td>\n",
              "      <td>14</td>\n",
              "      <td>4</td>\n",
              "      <td>0</td>\n",
              "      <td>NaN</td>\n",
              "    </tr>\n",
              "    <tr>\n",
              "      <th>2</th>\n",
              "      <td>2020-04-26</td>\n",
              "      <td>Andhra Pradesh</td>\n",
              "      <td>Chittoor</td>\n",
              "      <td>73</td>\n",
              "      <td>13</td>\n",
              "      <td>0</td>\n",
              "      <td>0</td>\n",
              "      <td>NaN</td>\n",
              "    </tr>\n",
              "    <tr>\n",
              "      <th>3</th>\n",
              "      <td>2020-04-26</td>\n",
              "      <td>Andhra Pradesh</td>\n",
              "      <td>East Godavari</td>\n",
              "      <td>39</td>\n",
              "      <td>12</td>\n",
              "      <td>0</td>\n",
              "      <td>0</td>\n",
              "      <td>NaN</td>\n",
              "    </tr>\n",
              "    <tr>\n",
              "      <th>4</th>\n",
              "      <td>2020-04-26</td>\n",
              "      <td>Andhra Pradesh</td>\n",
              "      <td>Guntur</td>\n",
              "      <td>214</td>\n",
              "      <td>29</td>\n",
              "      <td>8</td>\n",
              "      <td>0</td>\n",
              "      <td>NaN</td>\n",
              "    </tr>\n",
              "    <tr>\n",
              "      <th>...</th>\n",
              "      <td>...</td>\n",
              "      <td>...</td>\n",
              "      <td>...</td>\n",
              "      <td>...</td>\n",
              "      <td>...</td>\n",
              "      <td>...</td>\n",
              "      <td>...</td>\n",
              "      <td>...</td>\n",
              "    </tr>\n",
              "    <tr>\n",
              "      <th>161641</th>\n",
              "      <td>2021-01-05</td>\n",
              "      <td>West Bengal</td>\n",
              "      <td>Purba Bardhaman</td>\n",
              "      <td>12354</td>\n",
              "      <td>12068</td>\n",
              "      <td>95</td>\n",
              "      <td>0</td>\n",
              "      <td>NaN</td>\n",
              "    </tr>\n",
              "    <tr>\n",
              "      <th>161642</th>\n",
              "      <td>2021-01-05</td>\n",
              "      <td>West Bengal</td>\n",
              "      <td>Purba Medinipur</td>\n",
              "      <td>20231</td>\n",
              "      <td>19484</td>\n",
              "      <td>275</td>\n",
              "      <td>0</td>\n",
              "      <td>NaN</td>\n",
              "    </tr>\n",
              "    <tr>\n",
              "      <th>161643</th>\n",
              "      <td>2021-01-05</td>\n",
              "      <td>West Bengal</td>\n",
              "      <td>Purulia</td>\n",
              "      <td>6990</td>\n",
              "      <td>6716</td>\n",
              "      <td>47</td>\n",
              "      <td>0</td>\n",
              "      <td>NaN</td>\n",
              "    </tr>\n",
              "    <tr>\n",
              "      <th>161644</th>\n",
              "      <td>2021-01-05</td>\n",
              "      <td>West Bengal</td>\n",
              "      <td>South 24 Parganas</td>\n",
              "      <td>36205</td>\n",
              "      <td>35438</td>\n",
              "      <td>687</td>\n",
              "      <td>0</td>\n",
              "      <td>NaN</td>\n",
              "    </tr>\n",
              "    <tr>\n",
              "      <th>161645</th>\n",
              "      <td>2021-01-05</td>\n",
              "      <td>West Bengal</td>\n",
              "      <td>Uttar Dinajpur</td>\n",
              "      <td>6474</td>\n",
              "      <td>6264</td>\n",
              "      <td>72</td>\n",
              "      <td>0</td>\n",
              "      <td>NaN</td>\n",
              "    </tr>\n",
              "  </tbody>\n",
              "</table>\n",
              "<p>161646 rows × 8 columns</p>\n",
              "</div>"
            ],
            "text/plain": [
              "              Date                        State  ... Other  Tested\n",
              "0       2020-04-26  Andaman and Nicobar Islands  ...     0  2679.0\n",
              "1       2020-04-26               Andhra Pradesh  ...     0     NaN\n",
              "2       2020-04-26               Andhra Pradesh  ...     0     NaN\n",
              "3       2020-04-26               Andhra Pradesh  ...     0     NaN\n",
              "4       2020-04-26               Andhra Pradesh  ...     0     NaN\n",
              "...            ...                          ...  ...   ...     ...\n",
              "161641  2021-01-05                  West Bengal  ...     0     NaN\n",
              "161642  2021-01-05                  West Bengal  ...     0     NaN\n",
              "161643  2021-01-05                  West Bengal  ...     0     NaN\n",
              "161644  2021-01-05                  West Bengal  ...     0     NaN\n",
              "161645  2021-01-05                  West Bengal  ...     0     NaN\n",
              "\n",
              "[161646 rows x 8 columns]"
            ]
          },
          "metadata": {
            "tags": []
          },
          "execution_count": 8
        }
      ]
    },
    {
      "cell_type": "code",
      "metadata": {
        "id": "LtbgxVf5ohAa"
      },
      "source": [
        "a1 = pd.DataFrame()\r\n",
        "for i in range(len(data1)):\r\n",
        "    if data1.iloc[i]['State'] == 'Andhra Pradesh':\r\n",
        "        a1 = a1.append(data1.iloc[i])"
      ],
      "execution_count": 10,
      "outputs": []
    },
    {
      "cell_type": "code",
      "metadata": {
        "colab": {
          "base_uri": "https://localhost:8080/",
          "height": 491
        },
        "id": "arMBt5_WomY9",
        "outputId": "391b9adf-b673-48c5-e470-ed1c97db5654"
      },
      "source": [
        "m = a1.tail(15)\r\n",
        "m"
      ],
      "execution_count": 11,
      "outputs": [
        {
          "output_type": "execute_result",
          "data": {
            "text/html": [
              "<div>\n",
              "<style scoped>\n",
              "    .dataframe tbody tr th:only-of-type {\n",
              "        vertical-align: middle;\n",
              "    }\n",
              "\n",
              "    .dataframe tbody tr th {\n",
              "        vertical-align: top;\n",
              "    }\n",
              "\n",
              "    .dataframe thead th {\n",
              "        text-align: right;\n",
              "    }\n",
              "</style>\n",
              "<table border=\"1\" class=\"dataframe\">\n",
              "  <thead>\n",
              "    <tr style=\"text-align: right;\">\n",
              "      <th></th>\n",
              "      <th>Confirmed</th>\n",
              "      <th>Date</th>\n",
              "      <th>Deceased</th>\n",
              "      <th>District</th>\n",
              "      <th>Other</th>\n",
              "      <th>Recovered</th>\n",
              "      <th>State</th>\n",
              "      <th>Tested</th>\n",
              "    </tr>\n",
              "  </thead>\n",
              "  <tbody>\n",
              "    <tr>\n",
              "      <th>160994</th>\n",
              "      <td>67397.0</td>\n",
              "      <td>2021-01-05</td>\n",
              "      <td>597.0</td>\n",
              "      <td>Anantapur</td>\n",
              "      <td>0.0</td>\n",
              "      <td>66682.0</td>\n",
              "      <td>Andhra Pradesh</td>\n",
              "      <td>809025.0</td>\n",
              "    </tr>\n",
              "    <tr>\n",
              "      <th>160995</th>\n",
              "      <td>86325.0</td>\n",
              "      <td>2021-01-05</td>\n",
              "      <td>844.0</td>\n",
              "      <td>Chittoor</td>\n",
              "      <td>0.0</td>\n",
              "      <td>85233.0</td>\n",
              "      <td>Andhra Pradesh</td>\n",
              "      <td>791735.0</td>\n",
              "    </tr>\n",
              "    <tr>\n",
              "      <th>160996</th>\n",
              "      <td>123785.0</td>\n",
              "      <td>2021-01-05</td>\n",
              "      <td>636.0</td>\n",
              "      <td>East Godavari</td>\n",
              "      <td>0.0</td>\n",
              "      <td>122815.0</td>\n",
              "      <td>Andhra Pradesh</td>\n",
              "      <td>967422.0</td>\n",
              "    </tr>\n",
              "    <tr>\n",
              "      <th>160997</th>\n",
              "      <td>434.0</td>\n",
              "      <td>2021-01-05</td>\n",
              "      <td>0.0</td>\n",
              "      <td>Foreign Evacuees</td>\n",
              "      <td>0.0</td>\n",
              "      <td>434.0</td>\n",
              "      <td>Andhra Pradesh</td>\n",
              "      <td>NaN</td>\n",
              "    </tr>\n",
              "    <tr>\n",
              "      <th>160998</th>\n",
              "      <td>74872.0</td>\n",
              "      <td>2021-01-05</td>\n",
              "      <td>666.0</td>\n",
              "      <td>Guntur</td>\n",
              "      <td>0.0</td>\n",
              "      <td>73728.0</td>\n",
              "      <td>Andhra Pradesh</td>\n",
              "      <td>852177.0</td>\n",
              "    </tr>\n",
              "    <tr>\n",
              "      <th>160999</th>\n",
              "      <td>47926.0</td>\n",
              "      <td>2021-01-05</td>\n",
              "      <td>666.0</td>\n",
              "      <td>Krishna</td>\n",
              "      <td>0.0</td>\n",
              "      <td>46759.0</td>\n",
              "      <td>Andhra Pradesh</td>\n",
              "      <td>803134.0</td>\n",
              "    </tr>\n",
              "    <tr>\n",
              "      <th>161000</th>\n",
              "      <td>60602.0</td>\n",
              "      <td>2021-01-05</td>\n",
              "      <td>487.0</td>\n",
              "      <td>Kurnool</td>\n",
              "      <td>0.0</td>\n",
              "      <td>60043.0</td>\n",
              "      <td>Andhra Pradesh</td>\n",
              "      <td>892927.0</td>\n",
              "    </tr>\n",
              "    <tr>\n",
              "      <th>161001</th>\n",
              "      <td>2461.0</td>\n",
              "      <td>2021-01-05</td>\n",
              "      <td>0.0</td>\n",
              "      <td>Other State</td>\n",
              "      <td>0.0</td>\n",
              "      <td>2461.0</td>\n",
              "      <td>Andhra Pradesh</td>\n",
              "      <td>NaN</td>\n",
              "    </tr>\n",
              "    <tr>\n",
              "      <th>161002</th>\n",
              "      <td>62049.0</td>\n",
              "      <td>2021-01-05</td>\n",
              "      <td>579.0</td>\n",
              "      <td>Prakasam</td>\n",
              "      <td>0.0</td>\n",
              "      <td>61388.0</td>\n",
              "      <td>Andhra Pradesh</td>\n",
              "      <td>711492.0</td>\n",
              "    </tr>\n",
              "    <tr>\n",
              "      <th>161003</th>\n",
              "      <td>62124.0</td>\n",
              "      <td>2021-01-05</td>\n",
              "      <td>506.0</td>\n",
              "      <td>S.P.S. Nellore</td>\n",
              "      <td>0.0</td>\n",
              "      <td>61181.0</td>\n",
              "      <td>Andhra Pradesh</td>\n",
              "      <td>692285.0</td>\n",
              "    </tr>\n",
              "    <tr>\n",
              "      <th>161004</th>\n",
              "      <td>45974.0</td>\n",
              "      <td>2021-01-05</td>\n",
              "      <td>347.0</td>\n",
              "      <td>Srikakulam</td>\n",
              "      <td>0.0</td>\n",
              "      <td>45564.0</td>\n",
              "      <td>Andhra Pradesh</td>\n",
              "      <td>683370.0</td>\n",
              "    </tr>\n",
              "    <tr>\n",
              "      <th>161005</th>\n",
              "      <td>59258.0</td>\n",
              "      <td>2021-01-05</td>\n",
              "      <td>552.0</td>\n",
              "      <td>Visakhapatnam</td>\n",
              "      <td>0.0</td>\n",
              "      <td>58483.0</td>\n",
              "      <td>Andhra Pradesh</td>\n",
              "      <td>761899.0</td>\n",
              "    </tr>\n",
              "    <tr>\n",
              "      <th>161006</th>\n",
              "      <td>41039.0</td>\n",
              "      <td>2021-01-05</td>\n",
              "      <td>238.0</td>\n",
              "      <td>Vizianagaram</td>\n",
              "      <td>0.0</td>\n",
              "      <td>40766.0</td>\n",
              "      <td>Andhra Pradesh</td>\n",
              "      <td>544937.0</td>\n",
              "    </tr>\n",
              "    <tr>\n",
              "      <th>161007</th>\n",
              "      <td>93927.0</td>\n",
              "      <td>2021-01-05</td>\n",
              "      <td>539.0</td>\n",
              "      <td>West Godavari</td>\n",
              "      <td>0.0</td>\n",
              "      <td>93212.0</td>\n",
              "      <td>Andhra Pradesh</td>\n",
              "      <td>819706.0</td>\n",
              "    </tr>\n",
              "    <tr>\n",
              "      <th>161008</th>\n",
              "      <td>55037.0</td>\n",
              "      <td>2021-01-05</td>\n",
              "      <td>461.0</td>\n",
              "      <td>Y.S.R. Kadapa</td>\n",
              "      <td>0.0</td>\n",
              "      <td>54400.0</td>\n",
              "      <td>Andhra Pradesh</td>\n",
              "      <td>687017.0</td>\n",
              "    </tr>\n",
              "  </tbody>\n",
              "</table>\n",
              "</div>"
            ],
            "text/plain": [
              "        Confirmed        Date  Deceased  ... Recovered           State    Tested\n",
              "160994    67397.0  2021-01-05     597.0  ...   66682.0  Andhra Pradesh  809025.0\n",
              "160995    86325.0  2021-01-05     844.0  ...   85233.0  Andhra Pradesh  791735.0\n",
              "160996   123785.0  2021-01-05     636.0  ...  122815.0  Andhra Pradesh  967422.0\n",
              "160997      434.0  2021-01-05       0.0  ...     434.0  Andhra Pradesh       NaN\n",
              "160998    74872.0  2021-01-05     666.0  ...   73728.0  Andhra Pradesh  852177.0\n",
              "160999    47926.0  2021-01-05     666.0  ...   46759.0  Andhra Pradesh  803134.0\n",
              "161000    60602.0  2021-01-05     487.0  ...   60043.0  Andhra Pradesh  892927.0\n",
              "161001     2461.0  2021-01-05       0.0  ...    2461.0  Andhra Pradesh       NaN\n",
              "161002    62049.0  2021-01-05     579.0  ...   61388.0  Andhra Pradesh  711492.0\n",
              "161003    62124.0  2021-01-05     506.0  ...   61181.0  Andhra Pradesh  692285.0\n",
              "161004    45974.0  2021-01-05     347.0  ...   45564.0  Andhra Pradesh  683370.0\n",
              "161005    59258.0  2021-01-05     552.0  ...   58483.0  Andhra Pradesh  761899.0\n",
              "161006    41039.0  2021-01-05     238.0  ...   40766.0  Andhra Pradesh  544937.0\n",
              "161007    93927.0  2021-01-05     539.0  ...   93212.0  Andhra Pradesh  819706.0\n",
              "161008    55037.0  2021-01-05     461.0  ...   54400.0  Andhra Pradesh  687017.0\n",
              "\n",
              "[15 rows x 8 columns]"
            ]
          },
          "metadata": {
            "tags": []
          },
          "execution_count": 11
        }
      ]
    },
    {
      "cell_type": "code",
      "metadata": {
        "colab": {
          "base_uri": "https://localhost:8080/",
          "height": 480
        },
        "id": "zVq1wK28oroX",
        "outputId": "52b1414c-24b1-41ed-ad5f-ee1504d41168"
      },
      "source": [
        "plt.figure(figsize = (20,8))\r\n",
        "sns.barplot(x = 'District', y = m['Confirmed'],data=a1, palette = 'rocket')"
      ],
      "execution_count": 12,
      "outputs": [
        {
          "output_type": "execute_result",
          "data": {
            "text/plain": [
              "<matplotlib.axes._subplots.AxesSubplot at 0x7ff7fa061748>"
            ]
          },
          "metadata": {
            "tags": []
          },
          "execution_count": 12
        },
        {
          "output_type": "display_data",
          "data": {
            "image/png": "[encoded data removed]",
            "text/plain": [
              "<Figure size 1440x576 with 1 Axes>"
            ]
          },
          "metadata": {
            "tags": [],
            "needs_background": "light"
          }
        }
      ]
    },
    {
      "cell_type": "code",
      "metadata": {
        "colab": {
          "base_uri": "https://localhost:8080/",
          "height": 402
        },
        "id": "gMAqk8GyvTI6",
        "outputId": "d9f39b09-f651-417b-e41e-5c8d05a85edd"
      },
      "source": [
        "b1 = pd.DataFrame()\r\n",
        "for i in range(len(a1)):\r\n",
        "    if a1.iloc[i]['District'] == 'East Godavari':\r\n",
        "        b1 = b1.append(a1.iloc[i])\r\n",
        "b1"
      ],
      "execution_count": 13,
      "outputs": [
        {
          "output_type": "execute_result",
          "data": {
            "text/html": [
              "<div>\n",
              "<style scoped>\n",
              "    .dataframe tbody tr th:only-of-type {\n",
              "        vertical-align: middle;\n",
              "    }\n",
              "\n",
              "    .dataframe tbody tr th {\n",
              "        vertical-align: top;\n",
              "    }\n",
              "\n",
              "    .dataframe thead th {\n",
              "        text-align: right;\n",
              "    }\n",
              "</style>\n",
              "<table border=\"1\" class=\"dataframe\">\n",
              "  <thead>\n",
              "    <tr style=\"text-align: right;\">\n",
              "      <th></th>\n",
              "      <th>Confirmed</th>\n",
              "      <th>Date</th>\n",
              "      <th>Deceased</th>\n",
              "      <th>District</th>\n",
              "      <th>Other</th>\n",
              "      <th>Recovered</th>\n",
              "      <th>State</th>\n",
              "      <th>Tested</th>\n",
              "    </tr>\n",
              "  </thead>\n",
              "  <tbody>\n",
              "    <tr>\n",
              "      <th>3</th>\n",
              "      <td>39.0</td>\n",
              "      <td>2020-04-26</td>\n",
              "      <td>0.0</td>\n",
              "      <td>East Godavari</td>\n",
              "      <td>0.0</td>\n",
              "      <td>12.0</td>\n",
              "      <td>Andhra Pradesh</td>\n",
              "      <td>NaN</td>\n",
              "    </tr>\n",
              "    <tr>\n",
              "      <th>411</th>\n",
              "      <td>39.0</td>\n",
              "      <td>2020-04-27</td>\n",
              "      <td>0.0</td>\n",
              "      <td>East Godavari</td>\n",
              "      <td>0.0</td>\n",
              "      <td>12.0</td>\n",
              "      <td>Andhra Pradesh</td>\n",
              "      <td>NaN</td>\n",
              "    </tr>\n",
              "    <tr>\n",
              "      <th>832</th>\n",
              "      <td>39.0</td>\n",
              "      <td>2020-04-28</td>\n",
              "      <td>0.0</td>\n",
              "      <td>East Godavari</td>\n",
              "      <td>0.0</td>\n",
              "      <td>12.0</td>\n",
              "      <td>Andhra Pradesh</td>\n",
              "      <td>NaN</td>\n",
              "    </tr>\n",
              "    <tr>\n",
              "      <th>1260</th>\n",
              "      <td>40.0</td>\n",
              "      <td>2020-04-29</td>\n",
              "      <td>0.0</td>\n",
              "      <td>East Godavari</td>\n",
              "      <td>0.0</td>\n",
              "      <td>12.0</td>\n",
              "      <td>Andhra Pradesh</td>\n",
              "      <td>NaN</td>\n",
              "    </tr>\n",
              "    <tr>\n",
              "      <th>1693</th>\n",
              "      <td>42.0</td>\n",
              "      <td>2020-04-30</td>\n",
              "      <td>0.0</td>\n",
              "      <td>East Godavari</td>\n",
              "      <td>0.0</td>\n",
              "      <td>14.0</td>\n",
              "      <td>Andhra Pradesh</td>\n",
              "      <td>NaN</td>\n",
              "    </tr>\n",
              "    <tr>\n",
              "      <th>...</th>\n",
              "      <td>...</td>\n",
              "      <td>...</td>\n",
              "      <td>...</td>\n",
              "      <td>...</td>\n",
              "      <td>...</td>\n",
              "      <td>...</td>\n",
              "      <td>...</td>\n",
              "      <td>...</td>\n",
              "    </tr>\n",
              "    <tr>\n",
              "      <th>158384</th>\n",
              "      <td>123740.0</td>\n",
              "      <td>2021-01-01</td>\n",
              "      <td>636.0</td>\n",
              "      <td>East Godavari</td>\n",
              "      <td>0.0</td>\n",
              "      <td>122723.0</td>\n",
              "      <td>Andhra Pradesh</td>\n",
              "      <td>967422.0</td>\n",
              "    </tr>\n",
              "    <tr>\n",
              "      <th>159037</th>\n",
              "      <td>123755.0</td>\n",
              "      <td>2021-01-02</td>\n",
              "      <td>636.0</td>\n",
              "      <td>East Godavari</td>\n",
              "      <td>0.0</td>\n",
              "      <td>122747.0</td>\n",
              "      <td>Andhra Pradesh</td>\n",
              "      <td>967422.0</td>\n",
              "    </tr>\n",
              "    <tr>\n",
              "      <th>159690</th>\n",
              "      <td>123766.0</td>\n",
              "      <td>2021-01-03</td>\n",
              "      <td>636.0</td>\n",
              "      <td>East Godavari</td>\n",
              "      <td>0.0</td>\n",
              "      <td>122795.0</td>\n",
              "      <td>Andhra Pradesh</td>\n",
              "      <td>967422.0</td>\n",
              "    </tr>\n",
              "    <tr>\n",
              "      <th>160343</th>\n",
              "      <td>123785.0</td>\n",
              "      <td>2021-01-04</td>\n",
              "      <td>636.0</td>\n",
              "      <td>East Godavari</td>\n",
              "      <td>0.0</td>\n",
              "      <td>122815.0</td>\n",
              "      <td>Andhra Pradesh</td>\n",
              "      <td>967422.0</td>\n",
              "    </tr>\n",
              "    <tr>\n",
              "      <th>160996</th>\n",
              "      <td>123785.0</td>\n",
              "      <td>2021-01-05</td>\n",
              "      <td>636.0</td>\n",
              "      <td>East Godavari</td>\n",
              "      <td>0.0</td>\n",
              "      <td>122815.0</td>\n",
              "      <td>Andhra Pradesh</td>\n",
              "      <td>967422.0</td>\n",
              "    </tr>\n",
              "  </tbody>\n",
              "</table>\n",
              "<p>255 rows × 8 columns</p>\n",
              "</div>"
            ],
            "text/plain": [
              "        Confirmed        Date  Deceased  ... Recovered           State    Tested\n",
              "3            39.0  2020-04-26       0.0  ...      12.0  Andhra Pradesh       NaN\n",
              "411          39.0  2020-04-27       0.0  ...      12.0  Andhra Pradesh       NaN\n",
              "832          39.0  2020-04-28       0.0  ...      12.0  Andhra Pradesh       NaN\n",
              "1260         40.0  2020-04-29       0.0  ...      12.0  Andhra Pradesh       NaN\n",
              "1693         42.0  2020-04-30       0.0  ...      14.0  Andhra Pradesh       NaN\n",
              "...           ...         ...       ...  ...       ...             ...       ...\n",
              "158384   123740.0  2021-01-01     636.0  ...  122723.0  Andhra Pradesh  967422.0\n",
              "159037   123755.0  2021-01-02     636.0  ...  122747.0  Andhra Pradesh  967422.0\n",
              "159690   123766.0  2021-01-03     636.0  ...  122795.0  Andhra Pradesh  967422.0\n",
              "160343   123785.0  2021-01-04     636.0  ...  122815.0  Andhra Pradesh  967422.0\n",
              "160996   123785.0  2021-01-05     636.0  ...  122815.0  Andhra Pradesh  967422.0\n",
              "\n",
              "[255 rows x 8 columns]"
            ]
          },
          "metadata": {
            "tags": []
          },
          "execution_count": 13
        }
      ]
    },
    {
      "cell_type": "code",
      "metadata": {
        "colab": {
          "base_uri": "https://localhost:8080/",
          "height": 402
        },
        "id": "S8wGVDQevXYh",
        "outputId": "b8c6e413-e655-44a1-e619-17cbc8d55487"
      },
      "source": [
        "b1['daily increase'] = b1['Confirmed'].diff()\r\n",
        "b1['daily recovery'] = b1['Recovered'].diff()\r\n",
        "b1.fillna(0)"
      ],
      "execution_count": 14,
      "outputs": [
        {
          "output_type": "execute_result",
          "data": {
            "text/html": [
              "<div>\n",
              "<style scoped>\n",
              "    .dataframe tbody tr th:only-of-type {\n",
              "        vertical-align: middle;\n",
              "    }\n",
              "\n",
              "    .dataframe tbody tr th {\n",
              "        vertical-align: top;\n",
              "    }\n",
              "\n",
              "    .dataframe thead th {\n",
              "        text-align: right;\n",
              "    }\n",
              "</style>\n",
              "<table border=\"1\" class=\"dataframe\">\n",
              "  <thead>\n",
              "    <tr style=\"text-align: right;\">\n",
              "      <th></th>\n",
              "      <th>Confirmed</th>\n",
              "      <th>Date</th>\n",
              "      <th>Deceased</th>\n",
              "      <th>District</th>\n",
              "      <th>Other</th>\n",
              "      <th>Recovered</th>\n",
              "      <th>State</th>\n",
              "      <th>Tested</th>\n",
              "      <th>daily increase</th>\n",
              "      <th>daily recovery</th>\n",
              "    </tr>\n",
              "  </thead>\n",
              "  <tbody>\n",
              "    <tr>\n",
              "      <th>3</th>\n",
              "      <td>39.0</td>\n",
              "      <td>2020-04-26</td>\n",
              "      <td>0.0</td>\n",
              "      <td>East Godavari</td>\n",
              "      <td>0.0</td>\n",
              "      <td>12.0</td>\n",
              "      <td>Andhra Pradesh</td>\n",
              "      <td>0.0</td>\n",
              "      <td>0.0</td>\n",
              "      <td>0.0</td>\n",
              "    </tr>\n",
              "    <tr>\n",
              "      <th>411</th>\n",
              "      <td>39.0</td>\n",
              "      <td>2020-04-27</td>\n",
              "      <td>0.0</td>\n",
              "      <td>East Godavari</td>\n",
              "      <td>0.0</td>\n",
              "      <td>12.0</td>\n",
              "      <td>Andhra Pradesh</td>\n",
              "      <td>0.0</td>\n",
              "      <td>0.0</td>\n",
              "      <td>0.0</td>\n",
              "    </tr>\n",
              "    <tr>\n",
              "      <th>832</th>\n",
              "      <td>39.0</td>\n",
              "      <td>2020-04-28</td>\n",
              "      <td>0.0</td>\n",
              "      <td>East Godavari</td>\n",
              "      <td>0.0</td>\n",
              "      <td>12.0</td>\n",
              "      <td>Andhra Pradesh</td>\n",
              "      <td>0.0</td>\n",
              "      <td>0.0</td>\n",
              "      <td>0.0</td>\n",
              "    </tr>\n",
              "    <tr>\n",
              "      <th>1260</th>\n",
              "      <td>40.0</td>\n",
              "      <td>2020-04-29</td>\n",
              "      <td>0.0</td>\n",
              "      <td>East Godavari</td>\n",
              "      <td>0.0</td>\n",
              "      <td>12.0</td>\n",
              "      <td>Andhra Pradesh</td>\n",
              "      <td>0.0</td>\n",
              "      <td>1.0</td>\n",
              "      <td>0.0</td>\n",
              "    </tr>\n",
              "    <tr>\n",
              "      <th>1693</th>\n",
              "      <td>42.0</td>\n",
              "      <td>2020-04-30</td>\n",
              "      <td>0.0</td>\n",
              "      <td>East Godavari</td>\n",
              "      <td>0.0</td>\n",
              "      <td>14.0</td>\n",
              "      <td>Andhra Pradesh</td>\n",
              "      <td>0.0</td>\n",
              "      <td>2.0</td>\n",
              "      <td>2.0</td>\n",
              "    </tr>\n",
              "    <tr>\n",
              "      <th>...</th>\n",
              "      <td>...</td>\n",
              "      <td>...</td>\n",
              "      <td>...</td>\n",
              "      <td>...</td>\n",
              "      <td>...</td>\n",
              "      <td>...</td>\n",
              "      <td>...</td>\n",
              "      <td>...</td>\n",
              "      <td>...</td>\n",
              "      <td>...</td>\n",
              "    </tr>\n",
              "    <tr>\n",
              "      <th>158384</th>\n",
              "      <td>123740.0</td>\n",
              "      <td>2021-01-01</td>\n",
              "      <td>636.0</td>\n",
              "      <td>East Godavari</td>\n",
              "      <td>0.0</td>\n",
              "      <td>122723.0</td>\n",
              "      <td>Andhra Pradesh</td>\n",
              "      <td>967422.0</td>\n",
              "      <td>45.0</td>\n",
              "      <td>16.0</td>\n",
              "    </tr>\n",
              "    <tr>\n",
              "      <th>159037</th>\n",
              "      <td>123755.0</td>\n",
              "      <td>2021-01-02</td>\n",
              "      <td>636.0</td>\n",
              "      <td>East Godavari</td>\n",
              "      <td>0.0</td>\n",
              "      <td>122747.0</td>\n",
              "      <td>Andhra Pradesh</td>\n",
              "      <td>967422.0</td>\n",
              "      <td>15.0</td>\n",
              "      <td>24.0</td>\n",
              "    </tr>\n",
              "    <tr>\n",
              "      <th>159690</th>\n",
              "      <td>123766.0</td>\n",
              "      <td>2021-01-03</td>\n",
              "      <td>636.0</td>\n",
              "      <td>East Godavari</td>\n",
              "      <td>0.0</td>\n",
              "      <td>122795.0</td>\n",
              "      <td>Andhra Pradesh</td>\n",
              "      <td>967422.0</td>\n",
              "      <td>11.0</td>\n",
              "      <td>48.0</td>\n",
              "    </tr>\n",
              "    <tr>\n",
              "      <th>160343</th>\n",
              "      <td>123785.0</td>\n",
              "      <td>2021-01-04</td>\n",
              "      <td>636.0</td>\n",
              "      <td>East Godavari</td>\n",
              "      <td>0.0</td>\n",
              "      <td>122815.0</td>\n",
              "      <td>Andhra Pradesh</td>\n",
              "      <td>967422.0</td>\n",
              "      <td>19.0</td>\n",
              "      <td>20.0</td>\n",
              "    </tr>\n",
              "    <tr>\n",
              "      <th>160996</th>\n",
              "      <td>123785.0</td>\n",
              "      <td>2021-01-05</td>\n",
              "      <td>636.0</td>\n",
              "      <td>East Godavari</td>\n",
              "      <td>0.0</td>\n",
              "      <td>122815.0</td>\n",
              "      <td>Andhra Pradesh</td>\n",
              "      <td>967422.0</td>\n",
              "      <td>0.0</td>\n",
              "      <td>0.0</td>\n",
              "    </tr>\n",
              "  </tbody>\n",
              "</table>\n",
              "<p>255 rows × 10 columns</p>\n",
              "</div>"
            ],
            "text/plain": [
              "        Confirmed        Date  ...  daily increase daily recovery\n",
              "3            39.0  2020-04-26  ...             0.0            0.0\n",
              "411          39.0  2020-04-27  ...             0.0            0.0\n",
              "832          39.0  2020-04-28  ...             0.0            0.0\n",
              "1260         40.0  2020-04-29  ...             1.0            0.0\n",
              "1693         42.0  2020-04-30  ...             2.0            2.0\n",
              "...           ...         ...  ...             ...            ...\n",
              "158384   123740.0  2021-01-01  ...            45.0           16.0\n",
              "159037   123755.0  2021-01-02  ...            15.0           24.0\n",
              "159690   123766.0  2021-01-03  ...            11.0           48.0\n",
              "160343   123785.0  2021-01-04  ...            19.0           20.0\n",
              "160996   123785.0  2021-01-05  ...             0.0            0.0\n",
              "\n",
              "[255 rows x 10 columns]"
            ]
          },
          "metadata": {
            "tags": []
          },
          "execution_count": 14
        }
      ]
    },
    {
      "cell_type": "code",
      "metadata": {
        "colab": {
          "base_uri": "https://localhost:8080/",
          "height": 405
        },
        "id": "tIvSOehXvdDx",
        "outputId": "40dc934f-d881-4169-9577-cb2200f546c1"
      },
      "source": [
        "plt.figure(figsize = (16,6))\r\n",
        "sns.lineplot(x = b1['Date'], y = b1['daily increase'], color = 'red', marker = \"o\",label = 'Daily Confirmed Increase', lw = 0.7)\r\n",
        "sns.lineplot(x = b1['Date'], y = b1['daily recovery'], color = 'black', marker = \"^\", label = 'Daily Recovery', lw = 0.7)\r\n",
        "plt.xticks(range(0,252, 15))\r\n",
        "plt.ylabel('Comparison')\r\n",
        "plt.legend(loc ='upper left', prop={'size': 20})"
      ],
      "execution_count": 15,
      "outputs": [
        {
          "output_type": "execute_result",
          "data": {
            "text/plain": [
              "<matplotlib.legend.Legend at 0x7ff7f9af5358>"
            ]
          },
          "metadata": {
            "tags": []
          },
          "execution_count": 15
        },
        {
          "output_type": "display_data",
          "data": {
            "image/png": "[encoded data removed]",
            "text/plain": [
              "<Figure size 1152x432 with 1 Axes>"
            ]
          },
          "metadata": {
            "tags": [],
            "needs_background": "light"
          }
        }
      ]
    },
    {
      "cell_type": "code",
      "metadata": {
        "id": "P_VG_xi0viIa",
        "colab": {
          "base_uri": "https://localhost:8080/",
          "height": 402
        },
        "outputId": "c929d27a-3364-493e-bb75-e49a0c456112"
      },
      "source": [
        "\r\n",
        "b2 = pd.DataFrame(b1,columns=['Date','daily increase'])\r\n",
        "b2['daily increase'] = b2['daily increase'].fillna(0)\r\n",
        "b2_new = b2.drop(3)\r\n",
        "b2_new"
      ],
      "execution_count": 16,
      "outputs": [
        {
          "output_type": "execute_result",
          "data": {
            "text/html": [
              "<div>\n",
              "<style scoped>\n",
              "    .dataframe tbody tr th:only-of-type {\n",
              "        vertical-align: middle;\n",
              "    }\n",
              "\n",
              "    .dataframe tbody tr th {\n",
              "        vertical-align: top;\n",
              "    }\n",
              "\n",
              "    .dataframe thead th {\n",
              "        text-align: right;\n",
              "    }\n",
              "</style>\n",
              "<table border=\"1\" class=\"dataframe\">\n",
              "  <thead>\n",
              "    <tr style=\"text-align: right;\">\n",
              "      <th></th>\n",
              "      <th>Date</th>\n",
              "      <th>daily increase</th>\n",
              "    </tr>\n",
              "  </thead>\n",
              "  <tbody>\n",
              "    <tr>\n",
              "      <th>411</th>\n",
              "      <td>2020-04-27</td>\n",
              "      <td>0.0</td>\n",
              "    </tr>\n",
              "    <tr>\n",
              "      <th>832</th>\n",
              "      <td>2020-04-28</td>\n",
              "      <td>0.0</td>\n",
              "    </tr>\n",
              "    <tr>\n",
              "      <th>1260</th>\n",
              "      <td>2020-04-29</td>\n",
              "      <td>1.0</td>\n",
              "    </tr>\n",
              "    <tr>\n",
              "      <th>1693</th>\n",
              "      <td>2020-04-30</td>\n",
              "      <td>2.0</td>\n",
              "    </tr>\n",
              "    <tr>\n",
              "      <th>2128</th>\n",
              "      <td>2020-05-01</td>\n",
              "      <td>0.0</td>\n",
              "    </tr>\n",
              "    <tr>\n",
              "      <th>...</th>\n",
              "      <td>...</td>\n",
              "      <td>...</td>\n",
              "    </tr>\n",
              "    <tr>\n",
              "      <th>158384</th>\n",
              "      <td>2021-01-01</td>\n",
              "      <td>45.0</td>\n",
              "    </tr>\n",
              "    <tr>\n",
              "      <th>159037</th>\n",
              "      <td>2021-01-02</td>\n",
              "      <td>15.0</td>\n",
              "    </tr>\n",
              "    <tr>\n",
              "      <th>159690</th>\n",
              "      <td>2021-01-03</td>\n",
              "      <td>11.0</td>\n",
              "    </tr>\n",
              "    <tr>\n",
              "      <th>160343</th>\n",
              "      <td>2021-01-04</td>\n",
              "      <td>19.0</td>\n",
              "    </tr>\n",
              "    <tr>\n",
              "      <th>160996</th>\n",
              "      <td>2021-01-05</td>\n",
              "      <td>0.0</td>\n",
              "    </tr>\n",
              "  </tbody>\n",
              "</table>\n",
              "<p>254 rows × 2 columns</p>\n",
              "</div>"
            ],
            "text/plain": [
              "              Date  daily increase\n",
              "411     2020-04-27             0.0\n",
              "832     2020-04-28             0.0\n",
              "1260    2020-04-29             1.0\n",
              "1693    2020-04-30             2.0\n",
              "2128    2020-05-01             0.0\n",
              "...            ...             ...\n",
              "158384  2021-01-01            45.0\n",
              "159037  2021-01-02            15.0\n",
              "159690  2021-01-03            11.0\n",
              "160343  2021-01-04            19.0\n",
              "160996  2021-01-05             0.0\n",
              "\n",
              "[254 rows x 2 columns]"
            ]
          },
          "metadata": {
            "tags": []
          },
          "execution_count": 16
        }
      ]
    },
    {
      "cell_type": "code",
      "metadata": {
        "id": "pky-SyZrJEUS"
      },
      "source": [
        "from google.colab import files"
      ],
      "execution_count": 17,
      "outputs": []
    },
    {
      "cell_type": "code",
      "metadata": {
        "colab": {
          "base_uri": "https://localhost:8080/",
          "height": 17
        },
        "id": "fbDDrbI6KBk8",
        "outputId": "a195ed2a-951c-4bd5-9bc1-4e79449a5c49"
      },
      "source": [
        "b2.to_excel('b2.xlsx')\r\n",
        "files.download('b2.xlsx')"
      ],
      "execution_count": 18,
      "outputs": [
        {
          "output_type": "display_data",
          "data": {
            "application/javascript": [
              "\n",
              "    async function download(id, filename, size) {\n",
              "      if (!google.colab.kernel.accessAllowed) {\n",
              "        return;\n",
              "      }\n",
              "      const div = document.createElement('div');\n",
              "      const label = document.createElement('label');\n",
              "      label.textContent = `Downloading \"${filename}\": `;\n",
              "      div.appendChild(label);\n",
              "      const progress = document.createElement('progress');\n",
              "      progress.max = size;\n",
              "      div.appendChild(progress);\n",
              "      document.body.appendChild(div);\n",
              "\n",
              "      const buffers = [];\n",
              "      let downloaded = 0;\n",
              "\n",
              "      const channel = await google.colab.kernel.comms.open(id);\n",
              "      // Send a message to notify the kernel that we're ready.\n",
              "      channel.send({})\n",
              "\n",
              "      for await (const message of channel.messages) {\n",
              "        // Send a message to notify the kernel that we're ready.\n",
              "        channel.send({})\n",
              "        if (message.buffers) {\n",
              "          for (const buffer of message.buffers) {\n",
              "            buffers.push(buffer);\n",
              "            downloaded += buffer.byteLength;\n",
              "            progress.value = downloaded;\n",
              "          }\n",
              "        }\n",
              "      }\n",
              "      const blob = new Blob(buffers, {type: 'application/binary'});\n",
              "      const a = document.createElement('a');\n",
              "      a.href = window.URL.createObjectURL(blob);\n",
              "      a.download = filename;\n",
              "      div.appendChild(a);\n",
              "      a.click();\n",
              "      div.remove();\n",
              "    }\n",
              "  "
            ],
            "text/plain": [
              "<IPython.core.display.Javascript object>"
            ]
          },
          "metadata": {
            "tags": []
          }
        },
        {
          "output_type": "display_data",
          "data": {
            "application/javascript": [
              "download(\"download_8436b498-fd02-407e-885f-df80b2d32bc6\", \"b2.xlsx\", 11019)"
            ],
            "text/plain": [
              "<IPython.core.display.Javascript object>"
            ]
          },
          "metadata": {
            "tags": []
          }
        }
      ]
    },
    {
      "cell_type": "code",
      "metadata": {
        "colab": {
          "base_uri": "https://localhost:8080/",
          "height": 450
        },
        "id": "RtZtzRAsKN2R",
        "outputId": "d627c516-3485-463a-f838-95c6b0221ebb"
      },
      "source": [
        "import datetime\r\n",
        "def parser(x):\r\n",
        "  return datetime.datetime.strptime(x,\"%Y-%m-%d\")\r\n",
        "dataA = pd.read_csv('/content/b2_increase.csv',index_col='Date', parse_dates=['Date'],date_parser=parser)  \r\n",
        "dataA= dataA. loc[:, ~dataA. columns. str. contains('^Unnamed')]\r\n",
        "dataA"
      ],
      "execution_count": 24,
      "outputs": [
        {
          "output_type": "execute_result",
          "data": {
            "text/html": [
              "<div>\n",
              "<style scoped>\n",
              "    .dataframe tbody tr th:only-of-type {\n",
              "        vertical-align: middle;\n",
              "    }\n",
              "\n",
              "    .dataframe tbody tr th {\n",
              "        vertical-align: top;\n",
              "    }\n",
              "\n",
              "    .dataframe thead th {\n",
              "        text-align: right;\n",
              "    }\n",
              "</style>\n",
              "<table border=\"1\" class=\"dataframe\">\n",
              "  <thead>\n",
              "    <tr style=\"text-align: right;\">\n",
              "      <th></th>\n",
              "      <th>daily increase</th>\n",
              "    </tr>\n",
              "    <tr>\n",
              "      <th>Date</th>\n",
              "      <th></th>\n",
              "    </tr>\n",
              "  </thead>\n",
              "  <tbody>\n",
              "    <tr>\n",
              "      <th>2020-04-26</th>\n",
              "      <td>0</td>\n",
              "    </tr>\n",
              "    <tr>\n",
              "      <th>2020-04-27</th>\n",
              "      <td>0</td>\n",
              "    </tr>\n",
              "    <tr>\n",
              "      <th>2020-04-28</th>\n",
              "      <td>0</td>\n",
              "    </tr>\n",
              "    <tr>\n",
              "      <th>2020-04-29</th>\n",
              "      <td>1</td>\n",
              "    </tr>\n",
              "    <tr>\n",
              "      <th>2020-04-30</th>\n",
              "      <td>2</td>\n",
              "    </tr>\n",
              "    <tr>\n",
              "      <th>...</th>\n",
              "      <td>...</td>\n",
              "    </tr>\n",
              "    <tr>\n",
              "      <th>2020-12-31</th>\n",
              "      <td>42</td>\n",
              "    </tr>\n",
              "    <tr>\n",
              "      <th>2021-01-01</th>\n",
              "      <td>45</td>\n",
              "    </tr>\n",
              "    <tr>\n",
              "      <th>2021-01-02</th>\n",
              "      <td>15</td>\n",
              "    </tr>\n",
              "    <tr>\n",
              "      <th>2021-01-03</th>\n",
              "      <td>11</td>\n",
              "    </tr>\n",
              "    <tr>\n",
              "      <th>2021-01-04</th>\n",
              "      <td>19</td>\n",
              "    </tr>\n",
              "  </tbody>\n",
              "</table>\n",
              "<p>254 rows × 1 columns</p>\n",
              "</div>"
            ],
            "text/plain": [
              "            daily increase\n",
              "Date                      \n",
              "2020-04-26               0\n",
              "2020-04-27               0\n",
              "2020-04-28               0\n",
              "2020-04-29               1\n",
              "2020-04-30               2\n",
              "...                    ...\n",
              "2020-12-31              42\n",
              "2021-01-01              45\n",
              "2021-01-02              15\n",
              "2021-01-03              11\n",
              "2021-01-04              19\n",
              "\n",
              "[254 rows x 1 columns]"
            ]
          },
          "metadata": {
            "tags": []
          },
          "execution_count": 24
        }
      ]
    },
    {
      "cell_type": "code",
      "metadata": {
        "colab": {
          "base_uri": "https://localhost:8080/",
          "height": 311
        },
        "id": "EVkFA-_eQscE",
        "outputId": "0ead10fa-b6c7-4f4e-8bfc-c7066295a07b"
      },
      "source": [
        "dataA.plot()"
      ],
      "execution_count": 44,
      "outputs": [
        {
          "output_type": "execute_result",
          "data": {
            "text/plain": [
              "<matplotlib.axes._subplots.AxesSubplot at 0x7ff7f383f7b8>"
            ]
          },
          "metadata": {
            "tags": []
          },
          "execution_count": 44
        },
        {
          "output_type": "display_data",
          "data": {
            "image/png": "[encoded data removed]",
            "text/plain": [
              "<Figure size 432x288 with 1 Axes>"
            ]
          },
          "metadata": {
            "tags": [],
            "needs_background": "light"
          }
        }
      ]
    },
    {
      "cell_type": "code",
      "metadata": {
        "colab": {
          "base_uri": "https://localhost:8080/",
          "height": 545
        },
        "id": "cFCoSV40Sb2P",
        "outputId": "8bdbee04-9dbe-41c6-b452-a2107102ef85"
      },
      "source": [
        "from statsmodels.graphics.tsaplots import plot_acf\r\n",
        "plot_acf(dataA) #to check whether it is stationary or not(time series cannot work on non stationary data)"
      ],
      "execution_count": 45,
      "outputs": [
        {
          "output_type": "execute_result",
          "data": {
            "image/png": "[encoded data removed]",
            "text/plain": [
              "<Figure size 432x288 with 1 Axes>"
            ]
          },
          "metadata": {
            "tags": []
          },
          "execution_count": 45
        },
        {
          "output_type": "display_data",
          "data": {
            "image/png": "[encoded data removed]",
            "text/plain": [
              "<Figure size 432x288 with 1 Axes>"
            ]
          },
          "metadata": {
            "tags": [],
            "needs_background": "light"
          }
        }
      ]
    },
    {
      "cell_type": "code",
      "metadata": {
        "colab": {
          "base_uri": "https://localhost:8080/",
          "height": 450
        },
        "id": "nOw31RuvT0R0",
        "outputId": "b67b6fb5-803b-4aba-b1d0-5fc175cc5803"
      },
      "source": [
        "dataA_diff=dataA.diff(periods=1)\r\n",
        "dataA_diff = dataA_diff[1:]\r\n",
        "dataA_diff"
      ],
      "execution_count": 46,
      "outputs": [
        {
          "output_type": "execute_result",
          "data": {
            "text/html": [
              "<div>\n",
              "<style scoped>\n",
              "    .dataframe tbody tr th:only-of-type {\n",
              "        vertical-align: middle;\n",
              "    }\n",
              "\n",
              "    .dataframe tbody tr th {\n",
              "        vertical-align: top;\n",
              "    }\n",
              "\n",
              "    .dataframe thead th {\n",
              "        text-align: right;\n",
              "    }\n",
              "</style>\n",
              "<table border=\"1\" class=\"dataframe\">\n",
              "  <thead>\n",
              "    <tr style=\"text-align: right;\">\n",
              "      <th></th>\n",
              "      <th>daily increase</th>\n",
              "    </tr>\n",
              "    <tr>\n",
              "      <th>Date</th>\n",
              "      <th></th>\n",
              "    </tr>\n",
              "  </thead>\n",
              "  <tbody>\n",
              "    <tr>\n",
              "      <th>2020-04-27</th>\n",
              "      <td>0.0</td>\n",
              "    </tr>\n",
              "    <tr>\n",
              "      <th>2020-04-28</th>\n",
              "      <td>0.0</td>\n",
              "    </tr>\n",
              "    <tr>\n",
              "      <th>2020-04-29</th>\n",
              "      <td>1.0</td>\n",
              "    </tr>\n",
              "    <tr>\n",
              "      <th>2020-04-30</th>\n",
              "      <td>1.0</td>\n",
              "    </tr>\n",
              "    <tr>\n",
              "      <th>2020-05-01</th>\n",
              "      <td>-2.0</td>\n",
              "    </tr>\n",
              "    <tr>\n",
              "      <th>...</th>\n",
              "      <td>...</td>\n",
              "    </tr>\n",
              "    <tr>\n",
              "      <th>2020-12-31</th>\n",
              "      <td>14.0</td>\n",
              "    </tr>\n",
              "    <tr>\n",
              "      <th>2021-01-01</th>\n",
              "      <td>3.0</td>\n",
              "    </tr>\n",
              "    <tr>\n",
              "      <th>2021-01-02</th>\n",
              "      <td>-30.0</td>\n",
              "    </tr>\n",
              "    <tr>\n",
              "      <th>2021-01-03</th>\n",
              "      <td>-4.0</td>\n",
              "    </tr>\n",
              "    <tr>\n",
              "      <th>2021-01-04</th>\n",
              "      <td>8.0</td>\n",
              "    </tr>\n",
              "  </tbody>\n",
              "</table>\n",
              "<p>253 rows × 1 columns</p>\n",
              "</div>"
            ],
            "text/plain": [
              "            daily increase\n",
              "Date                      \n",
              "2020-04-27             0.0\n",
              "2020-04-28             0.0\n",
              "2020-04-29             1.0\n",
              "2020-04-30             1.0\n",
              "2020-05-01            -2.0\n",
              "...                    ...\n",
              "2020-12-31            14.0\n",
              "2021-01-01             3.0\n",
              "2021-01-02           -30.0\n",
              "2021-01-03            -4.0\n",
              "2021-01-04             8.0\n",
              "\n",
              "[253 rows x 1 columns]"
            ]
          },
          "metadata": {
            "tags": []
          },
          "execution_count": 46
        }
      ]
    },
    {
      "cell_type": "code",
      "metadata": {
        "colab": {
          "base_uri": "https://localhost:8080/",
          "height": 545
        },
        "id": "6YS2qxk4USlb",
        "outputId": "7645c310-1c2c-4e04-fdd1-910cb5c101ac"
      },
      "source": [
        "plot_acf(dataA_diff)"
      ],
      "execution_count": 47,
      "outputs": [
        {
          "output_type": "execute_result",
          "data": {
            "image/png": "[encoded data removed]",
            "text/plain": [
              "<Figure size 432x288 with 1 Axes>"
            ]
          },
          "metadata": {
            "tags": []
          },
          "execution_count": 47
        },
        {
          "output_type": "display_data",
          "data": {
            "image/png": "[encoded data removed]",
            "text/plain": [
              "<Figure size 432x288 with 1 Axes>"
            ]
          },
          "metadata": {
            "tags": [],
            "needs_background": "light"
          }
        }
      ]
    },
    {
      "cell_type": "code",
      "metadata": {
        "id": "APlo4kUlVx5G"
      },
      "source": [
        "X= dataA.values\r\n",
        "X.size\r\n",
        "train = X[0:178]\r\n",
        "test = X[178:]\r\n",
        "predictions = []"
      ],
      "execution_count": 48,
      "outputs": []
    },
    {
      "cell_type": "code",
      "metadata": {
        "id": "T0XSnGNbW49V"
      },
      "source": [
        "from statsmodels.tsa.ar_model import AR\r\n",
        "from sklearn.metrics import mean_squared_error"
      ],
      "execution_count": 49,
      "outputs": []
    },
    {
      "cell_type": "code",
      "metadata": {
        "id": "97upoufTXVF4"
      },
      "source": [
        "model_ar= AR(train)\r\n",
        "model_ar_fit=model_ar.fit()"
      ],
      "execution_count": 50,
      "outputs": []
    },
    {
      "cell_type": "code",
      "metadata": {
        "id": "yAr5kzG4YNJy"
      },
      "source": [
        "predictions = model_ar_fit.predict(start=178,end=254)"
      ],
      "execution_count": 51,
      "outputs": []
    },
    {
      "cell_type": "code",
      "metadata": {
        "colab": {
          "base_uri": "https://localhost:8080/",
          "height": 282
        },
        "id": "ajPwownyZ1gj",
        "outputId": "832526a0-ac9b-484b-a534-d58b15951357"
      },
      "source": [
        "plt.plot(test)\r\n",
        "plt.plot(predictions,color='red')"
      ],
      "execution_count": 52,
      "outputs": [
        {
          "output_type": "execute_result",
          "data": {
            "text/plain": [
              "[<matplotlib.lines.Line2D at 0x7ff7f383f358>]"
            ]
          },
          "metadata": {
            "tags": []
          },
          "execution_count": 52
        },
        {
          "output_type": "display_data",
          "data": {
            "image/png": "[encoded data removed]",
            "text/plain": [
              "<Figure size 432x288 with 1 Axes>"
            ]
          },
          "metadata": {
            "tags": [],
            "needs_background": "light"
          }
        }
      ]
    },
    {
      "cell_type": "code",
      "metadata": {
        "id": "xBJYgyeSaZpc"
      },
      "source": [
        "from statsmodels.tsa.arima_model import ARIMA"
      ],
      "execution_count": 53,
      "outputs": []
    },
    {
      "cell_type": "code",
      "metadata": {
        "colab": {
          "base_uri": "https://localhost:8080/"
        },
        "id": "V1sH11uHdYRN",
        "outputId": "f273c321-8323-4f17-8e07-e1539d5975fd"
      },
      "source": [
        "model_arima=ARIMA(train,order=(7,2,3))#best fit combo of p,d,q\r\n",
        "model_arima_fit=model_arima.fit()\r\n",
        "print(model_arima_fit.aic)"
      ],
      "execution_count": 35,
      "outputs": [
        {
          "output_type": "stream",
          "text": [
            "2214.0680680621526\n"
          ],
          "name": "stdout"
        },
        {
          "output_type": "stream",
          "text": [
            "/usr/local/lib/python3.6/dist-packages/statsmodels/base/model.py:492: HessianInversionWarning:\n",
            "\n",
            "Inverting hessian failed, no bse or cov_params available\n",
            "\n"
          ],
          "name": "stderr"
        }
      ]
    },
    {
      "cell_type": "code",
      "metadata": {
        "colab": {
          "base_uri": "https://localhost:8080/"
        },
        "id": "u6tifdl3dp2n",
        "outputId": "d71bd45f-0429-4326-cc4e-f167746e5208"
      },
      "source": [
        "\r\n",
        "predictions= model_arima_fit.forecast(steps=30)[0]\r\n",
        "predictions"
      ],
      "execution_count": 36,
      "outputs": [
        {
          "output_type": "execute_result",
          "data": {
            "text/plain": [
              "array([416.44297242, 436.36224255, 463.31787735, 407.05243645,\n",
              "       367.88910472, 393.74103194, 387.5196838 , 350.15629779,\n",
              "       354.67383442, 355.1170356 , 313.03527795, 300.59661524,\n",
              "       317.11162104, 293.66847541, 261.38576196, 265.71173205,\n",
              "       258.09267842, 225.1794484 , 218.19357552, 220.11839083,\n",
              "       191.91691971, 169.91639455, 171.95578589, 156.48022054,\n",
              "       128.40446061, 122.12432521, 114.90309278,  87.79489245,\n",
              "        71.85804838,  68.12313289])"
            ]
          },
          "metadata": {
            "tags": []
          },
          "execution_count": 36
        }
      ]
    },
    {
      "cell_type": "code",
      "metadata": {
        "colab": {
          "base_uri": "https://localhost:8080/",
          "height": 283
        },
        "id": "CUib_g_3eA_F",
        "outputId": "40b300b8-6367-4fd0-aefe-2d69996390b5"
      },
      "source": [
        "plt.plot(test)\r\n",
        "plt.plot(predictions,color='red')"
      ],
      "execution_count": 37,
      "outputs": [
        {
          "output_type": "execute_result",
          "data": {
            "text/plain": [
              "[<matplotlib.lines.Line2D at 0x7ff7f35809e8>]"
            ]
          },
          "metadata": {
            "tags": []
          },
          "execution_count": 37
        },
        {
          "output_type": "display_data",
          "data": {
            "image/png": "[encoded data removed]",
            "text/plain": [
              "<Figure size 432x288 with 1 Axes>"
            ]
          },
          "metadata": {
            "tags": [],
            "needs_background": "light"
          }
        }
      ]
    },
    {
      "cell_type": "code",
      "metadata": {
        "id": "sbjXRCYpeN7w"
      },
      "source": [
        "import  itertools\r\n",
        "p=d=q=range(0,8)\r\n",
        "pdq = list(itertools.product(p,d,q))\r\n",
        "pdq"
      ],
      "execution_count": null,
      "outputs": []
    },
    {
      "cell_type": "code",
      "metadata": {
        "id": "R3MUqX6xzAjX"
      },
      "source": [
        "for param in pdq:\r\n",
        "  try:\r\n",
        "    model_arima=ARIMA(train,order=param)\r\n",
        "    model_arima_fit=model_arima.fit()\r\n",
        "    print(param,model_arima_fit.aic)\r\n",
        "  except:\r\n",
        "    continue  \r\n"
      ],
      "execution_count": null,
      "outputs": []
    },
    {
      "cell_type": "code",
      "metadata": {
        "colab": {
          "base_uri": "https://localhost:8080/",
          "height": 419
        },
        "id": "cubbBaJNzvdr",
        "outputId": "28b273e9-4ef0-4619-a365-cb1517bcb9ed"
      },
      "source": [
        "# dates vs daily recovery\r\n",
        "b1"
      ],
      "execution_count": 56,
      "outputs": [
        {
          "output_type": "execute_result",
          "data": {
            "text/html": [
              "<div>\n",
              "<style scoped>\n",
              "    .dataframe tbody tr th:only-of-type {\n",
              "        vertical-align: middle;\n",
              "    }\n",
              "\n",
              "    .dataframe tbody tr th {\n",
              "        vertical-align: top;\n",
              "    }\n",
              "\n",
              "    .dataframe thead th {\n",
              "        text-align: right;\n",
              "    }\n",
              "</style>\n",
              "<table border=\"1\" class=\"dataframe\">\n",
              "  <thead>\n",
              "    <tr style=\"text-align: right;\">\n",
              "      <th></th>\n",
              "      <th>Confirmed</th>\n",
              "      <th>Date</th>\n",
              "      <th>Deceased</th>\n",
              "      <th>District</th>\n",
              "      <th>Other</th>\n",
              "      <th>Recovered</th>\n",
              "      <th>State</th>\n",
              "      <th>Tested</th>\n",
              "      <th>daily increase</th>\n",
              "      <th>daily recovery</th>\n",
              "    </tr>\n",
              "  </thead>\n",
              "  <tbody>\n",
              "    <tr>\n",
              "      <th>3</th>\n",
              "      <td>39.0</td>\n",
              "      <td>2020-04-26</td>\n",
              "      <td>0.0</td>\n",
              "      <td>East Godavari</td>\n",
              "      <td>0.0</td>\n",
              "      <td>12.0</td>\n",
              "      <td>Andhra Pradesh</td>\n",
              "      <td>NaN</td>\n",
              "      <td>NaN</td>\n",
              "      <td>NaN</td>\n",
              "    </tr>\n",
              "    <tr>\n",
              "      <th>411</th>\n",
              "      <td>39.0</td>\n",
              "      <td>2020-04-27</td>\n",
              "      <td>0.0</td>\n",
              "      <td>East Godavari</td>\n",
              "      <td>0.0</td>\n",
              "      <td>12.0</td>\n",
              "      <td>Andhra Pradesh</td>\n",
              "      <td>NaN</td>\n",
              "      <td>0.0</td>\n",
              "      <td>0.0</td>\n",
              "    </tr>\n",
              "    <tr>\n",
              "      <th>832</th>\n",
              "      <td>39.0</td>\n",
              "      <td>2020-04-28</td>\n",
              "      <td>0.0</td>\n",
              "      <td>East Godavari</td>\n",
              "      <td>0.0</td>\n",
              "      <td>12.0</td>\n",
              "      <td>Andhra Pradesh</td>\n",
              "      <td>NaN</td>\n",
              "      <td>0.0</td>\n",
              "      <td>0.0</td>\n",
              "    </tr>\n",
              "    <tr>\n",
              "      <th>1260</th>\n",
              "      <td>40.0</td>\n",
              "      <td>2020-04-29</td>\n",
              "      <td>0.0</td>\n",
              "      <td>East Godavari</td>\n",
              "      <td>0.0</td>\n",
              "      <td>12.0</td>\n",
              "      <td>Andhra Pradesh</td>\n",
              "      <td>NaN</td>\n",
              "      <td>1.0</td>\n",
              "      <td>0.0</td>\n",
              "    </tr>\n",
              "    <tr>\n",
              "      <th>1693</th>\n",
              "      <td>42.0</td>\n",
              "      <td>2020-04-30</td>\n",
              "      <td>0.0</td>\n",
              "      <td>East Godavari</td>\n",
              "      <td>0.0</td>\n",
              "      <td>14.0</td>\n",
              "      <td>Andhra Pradesh</td>\n",
              "      <td>NaN</td>\n",
              "      <td>2.0</td>\n",
              "      <td>2.0</td>\n",
              "    </tr>\n",
              "    <tr>\n",
              "      <th>...</th>\n",
              "      <td>...</td>\n",
              "      <td>...</td>\n",
              "      <td>...</td>\n",
              "      <td>...</td>\n",
              "      <td>...</td>\n",
              "      <td>...</td>\n",
              "      <td>...</td>\n",
              "      <td>...</td>\n",
              "      <td>...</td>\n",
              "      <td>...</td>\n",
              "    </tr>\n",
              "    <tr>\n",
              "      <th>158384</th>\n",
              "      <td>123740.0</td>\n",
              "      <td>2021-01-01</td>\n",
              "      <td>636.0</td>\n",
              "      <td>East Godavari</td>\n",
              "      <td>0.0</td>\n",
              "      <td>122723.0</td>\n",
              "      <td>Andhra Pradesh</td>\n",
              "      <td>967422.0</td>\n",
              "      <td>45.0</td>\n",
              "      <td>16.0</td>\n",
              "    </tr>\n",
              "    <tr>\n",
              "      <th>159037</th>\n",
              "      <td>123755.0</td>\n",
              "      <td>2021-01-02</td>\n",
              "      <td>636.0</td>\n",
              "      <td>East Godavari</td>\n",
              "      <td>0.0</td>\n",
              "      <td>122747.0</td>\n",
              "      <td>Andhra Pradesh</td>\n",
              "      <td>967422.0</td>\n",
              "      <td>15.0</td>\n",
              "      <td>24.0</td>\n",
              "    </tr>\n",
              "    <tr>\n",
              "      <th>159690</th>\n",
              "      <td>123766.0</td>\n",
              "      <td>2021-01-03</td>\n",
              "      <td>636.0</td>\n",
              "      <td>East Godavari</td>\n",
              "      <td>0.0</td>\n",
              "      <td>122795.0</td>\n",
              "      <td>Andhra Pradesh</td>\n",
              "      <td>967422.0</td>\n",
              "      <td>11.0</td>\n",
              "      <td>48.0</td>\n",
              "    </tr>\n",
              "    <tr>\n",
              "      <th>160343</th>\n",
              "      <td>123785.0</td>\n",
              "      <td>2021-01-04</td>\n",
              "      <td>636.0</td>\n",
              "      <td>East Godavari</td>\n",
              "      <td>0.0</td>\n",
              "      <td>122815.0</td>\n",
              "      <td>Andhra Pradesh</td>\n",
              "      <td>967422.0</td>\n",
              "      <td>19.0</td>\n",
              "      <td>20.0</td>\n",
              "    </tr>\n",
              "    <tr>\n",
              "      <th>160996</th>\n",
              "      <td>123785.0</td>\n",
              "      <td>2021-01-05</td>\n",
              "      <td>636.0</td>\n",
              "      <td>East Godavari</td>\n",
              "      <td>0.0</td>\n",
              "      <td>122815.0</td>\n",
              "      <td>Andhra Pradesh</td>\n",
              "      <td>967422.0</td>\n",
              "      <td>0.0</td>\n",
              "      <td>0.0</td>\n",
              "    </tr>\n",
              "  </tbody>\n",
              "</table>\n",
              "<p>255 rows × 10 columns</p>\n",
              "</div>"
            ],
            "text/plain": [
              "        Confirmed        Date  ...  daily increase daily recovery\n",
              "3            39.0  2020-04-26  ...             NaN            NaN\n",
              "411          39.0  2020-04-27  ...             0.0            0.0\n",
              "832          39.0  2020-04-28  ...             0.0            0.0\n",
              "1260         40.0  2020-04-29  ...             1.0            0.0\n",
              "1693         42.0  2020-04-30  ...             2.0            2.0\n",
              "...           ...         ...  ...             ...            ...\n",
              "158384   123740.0  2021-01-01  ...            45.0           16.0\n",
              "159037   123755.0  2021-01-02  ...            15.0           24.0\n",
              "159690   123766.0  2021-01-03  ...            11.0           48.0\n",
              "160343   123785.0  2021-01-04  ...            19.0           20.0\n",
              "160996   123785.0  2021-01-05  ...             0.0            0.0\n",
              "\n",
              "[255 rows x 10 columns]"
            ]
          },
          "metadata": {
            "tags": []
          },
          "execution_count": 56
        }
      ]
    },
    {
      "cell_type": "code",
      "metadata": {
        "colab": {
          "base_uri": "https://localhost:8080/",
          "height": 419
        },
        "id": "egCydKi3E8tn",
        "outputId": "d87056a5-3320-4768-c2f7-d31c221bfd7f"
      },
      "source": [
        "b3 = pd.DataFrame(b1,columns=['Date','daily recovery'])\r\n",
        "b3['daily recovery'] = b3['daily recovery'].fillna(0)\r\n",
        "b3_new = b3.drop(3)\r\n",
        "b3_new"
      ],
      "execution_count": 57,
      "outputs": [
        {
          "output_type": "execute_result",
          "data": {
            "text/html": [
              "<div>\n",
              "<style scoped>\n",
              "    .dataframe tbody tr th:only-of-type {\n",
              "        vertical-align: middle;\n",
              "    }\n",
              "\n",
              "    .dataframe tbody tr th {\n",
              "        vertical-align: top;\n",
              "    }\n",
              "\n",
              "    .dataframe thead th {\n",
              "        text-align: right;\n",
              "    }\n",
              "</style>\n",
              "<table border=\"1\" class=\"dataframe\">\n",
              "  <thead>\n",
              "    <tr style=\"text-align: right;\">\n",
              "      <th></th>\n",
              "      <th>Date</th>\n",
              "      <th>daily recovery</th>\n",
              "    </tr>\n",
              "  </thead>\n",
              "  <tbody>\n",
              "    <tr>\n",
              "      <th>411</th>\n",
              "      <td>2020-04-27</td>\n",
              "      <td>0.0</td>\n",
              "    </tr>\n",
              "    <tr>\n",
              "      <th>832</th>\n",
              "      <td>2020-04-28</td>\n",
              "      <td>0.0</td>\n",
              "    </tr>\n",
              "    <tr>\n",
              "      <th>1260</th>\n",
              "      <td>2020-04-29</td>\n",
              "      <td>0.0</td>\n",
              "    </tr>\n",
              "    <tr>\n",
              "      <th>1693</th>\n",
              "      <td>2020-04-30</td>\n",
              "      <td>2.0</td>\n",
              "    </tr>\n",
              "    <tr>\n",
              "      <th>2128</th>\n",
              "      <td>2020-05-01</td>\n",
              "      <td>3.0</td>\n",
              "    </tr>\n",
              "    <tr>\n",
              "      <th>...</th>\n",
              "      <td>...</td>\n",
              "      <td>...</td>\n",
              "    </tr>\n",
              "    <tr>\n",
              "      <th>158384</th>\n",
              "      <td>2021-01-01</td>\n",
              "      <td>16.0</td>\n",
              "    </tr>\n",
              "    <tr>\n",
              "      <th>159037</th>\n",
              "      <td>2021-01-02</td>\n",
              "      <td>24.0</td>\n",
              "    </tr>\n",
              "    <tr>\n",
              "      <th>159690</th>\n",
              "      <td>2021-01-03</td>\n",
              "      <td>48.0</td>\n",
              "    </tr>\n",
              "    <tr>\n",
              "      <th>160343</th>\n",
              "      <td>2021-01-04</td>\n",
              "      <td>20.0</td>\n",
              "    </tr>\n",
              "    <tr>\n",
              "      <th>160996</th>\n",
              "      <td>2021-01-05</td>\n",
              "      <td>0.0</td>\n",
              "    </tr>\n",
              "  </tbody>\n",
              "</table>\n",
              "<p>254 rows × 2 columns</p>\n",
              "</div>"
            ],
            "text/plain": [
              "              Date  daily recovery\n",
              "411     2020-04-27             0.0\n",
              "832     2020-04-28             0.0\n",
              "1260    2020-04-29             0.0\n",
              "1693    2020-04-30             2.0\n",
              "2128    2020-05-01             3.0\n",
              "...            ...             ...\n",
              "158384  2021-01-01            16.0\n",
              "159037  2021-01-02            24.0\n",
              "159690  2021-01-03            48.0\n",
              "160343  2021-01-04            20.0\n",
              "160996  2021-01-05             0.0\n",
              "\n",
              "[254 rows x 2 columns]"
            ]
          },
          "metadata": {
            "tags": []
          },
          "execution_count": 57
        }
      ]
    },
    {
      "cell_type": "code",
      "metadata": {
        "id": "ErmCczd1FJfw"
      },
      "source": [
        "from google.colab import files"
      ],
      "execution_count": 58,
      "outputs": []
    },
    {
      "cell_type": "code",
      "metadata": {
        "colab": {
          "base_uri": "https://localhost:8080/",
          "height": 17
        },
        "id": "lM91poAIFiVi",
        "outputId": "f426b89a-ff7c-4e4e-b80e-46d00af41eb3"
      },
      "source": [
        "b3.to_excel('b3.xlsx')\r\n",
        "files.download('b3.xlsx')"
      ],
      "execution_count": 59,
      "outputs": [
        {
          "output_type": "display_data",
          "data": {
            "application/javascript": [
              "\n",
              "    async function download(id, filename, size) {\n",
              "      if (!google.colab.kernel.accessAllowed) {\n",
              "        return;\n",
              "      }\n",
              "      const div = document.createElement('div');\n",
              "      const label = document.createElement('label');\n",
              "      label.textContent = `Downloading \"${filename}\": `;\n",
              "      div.appendChild(label);\n",
              "      const progress = document.createElement('progress');\n",
              "      progress.max = size;\n",
              "      div.appendChild(progress);\n",
              "      document.body.appendChild(div);\n",
              "\n",
              "      const buffers = [];\n",
              "      let downloaded = 0;\n",
              "\n",
              "      const channel = await google.colab.kernel.comms.open(id);\n",
              "      // Send a message to notify the kernel that we're ready.\n",
              "      channel.send({})\n",
              "\n",
              "      for await (const message of channel.messages) {\n",
              "        // Send a message to notify the kernel that we're ready.\n",
              "        channel.send({})\n",
              "        if (message.buffers) {\n",
              "          for (const buffer of message.buffers) {\n",
              "            buffers.push(buffer);\n",
              "            downloaded += buffer.byteLength;\n",
              "            progress.value = downloaded;\n",
              "          }\n",
              "        }\n",
              "      }\n",
              "      const blob = new Blob(buffers, {type: 'application/binary'});\n",
              "      const a = document.createElement('a');\n",
              "      a.href = window.URL.createObjectURL(blob);\n",
              "      a.download = filename;\n",
              "      div.appendChild(a);\n",
              "      a.click();\n",
              "      div.remove();\n",
              "    }\n",
              "  "
            ],
            "text/plain": [
              "<IPython.core.display.Javascript object>"
            ]
          },
          "metadata": {
            "tags": []
          }
        },
        {
          "output_type": "display_data",
          "data": {
            "application/javascript": [
              "download(\"download_a00ad2f2-e9a2-423d-bda3-c50b71cb66ce\", \"b3.xlsx\", 11008)"
            ],
            "text/plain": [
              "<IPython.core.display.Javascript object>"
            ]
          },
          "metadata": {
            "tags": []
          }
        }
      ]
    },
    {
      "cell_type": "code",
      "metadata": {
        "colab": {
          "base_uri": "https://localhost:8080/",
          "height": 450
        },
        "id": "O--oJKbCFpBh",
        "outputId": "058720c8-3d70-4554-dba8-d8d96b6b88ed"
      },
      "source": [
        "import datetime\r\n",
        "def parser(x):\r\n",
        "  return datetime.datetime.strptime(x,\"%Y-%m-%d\")\r\n",
        "dataB = pd.read_csv('/content/b3_recovery.csv',index_col='Date', parse_dates=['Date'],date_parser=parser)  \r\n",
        "dataB= dataB. loc[:, ~dataB. columns. str. contains('^Unnamed')]\r\n",
        "dataB"
      ],
      "execution_count": 162,
      "outputs": [
        {
          "output_type": "execute_result",
          "data": {
            "text/html": [
              "<div>\n",
              "<style scoped>\n",
              "    .dataframe tbody tr th:only-of-type {\n",
              "        vertical-align: middle;\n",
              "    }\n",
              "\n",
              "    .dataframe tbody tr th {\n",
              "        vertical-align: top;\n",
              "    }\n",
              "\n",
              "    .dataframe thead th {\n",
              "        text-align: right;\n",
              "    }\n",
              "</style>\n",
              "<table border=\"1\" class=\"dataframe\">\n",
              "  <thead>\n",
              "    <tr style=\"text-align: right;\">\n",
              "      <th></th>\n",
              "      <th>daily recovery</th>\n",
              "    </tr>\n",
              "    <tr>\n",
              "      <th>Date</th>\n",
              "      <th></th>\n",
              "    </tr>\n",
              "  </thead>\n",
              "  <tbody>\n",
              "    <tr>\n",
              "      <th>2020-04-26</th>\n",
              "      <td>0</td>\n",
              "    </tr>\n",
              "    <tr>\n",
              "      <th>2020-04-27</th>\n",
              "      <td>0</td>\n",
              "    </tr>\n",
              "    <tr>\n",
              "      <th>2020-04-28</th>\n",
              "      <td>0</td>\n",
              "    </tr>\n",
              "    <tr>\n",
              "      <th>2020-04-29</th>\n",
              "      <td>0</td>\n",
              "    </tr>\n",
              "    <tr>\n",
              "      <th>2020-04-30</th>\n",
              "      <td>2</td>\n",
              "    </tr>\n",
              "    <tr>\n",
              "      <th>...</th>\n",
              "      <td>...</td>\n",
              "    </tr>\n",
              "    <tr>\n",
              "      <th>2021-01-01</th>\n",
              "      <td>16</td>\n",
              "    </tr>\n",
              "    <tr>\n",
              "      <th>2021-01-02</th>\n",
              "      <td>24</td>\n",
              "    </tr>\n",
              "    <tr>\n",
              "      <th>2021-01-03</th>\n",
              "      <td>48</td>\n",
              "    </tr>\n",
              "    <tr>\n",
              "      <th>2021-01-04</th>\n",
              "      <td>20</td>\n",
              "    </tr>\n",
              "    <tr>\n",
              "      <th>2021-01-05</th>\n",
              "      <td>0</td>\n",
              "    </tr>\n",
              "  </tbody>\n",
              "</table>\n",
              "<p>255 rows × 1 columns</p>\n",
              "</div>"
            ],
            "text/plain": [
              "            daily recovery\n",
              "Date                      \n",
              "2020-04-26               0\n",
              "2020-04-27               0\n",
              "2020-04-28               0\n",
              "2020-04-29               0\n",
              "2020-04-30               2\n",
              "...                    ...\n",
              "2021-01-01              16\n",
              "2021-01-02              24\n",
              "2021-01-03              48\n",
              "2021-01-04              20\n",
              "2021-01-05               0\n",
              "\n",
              "[255 rows x 1 columns]"
            ]
          },
          "metadata": {
            "tags": []
          },
          "execution_count": 162
        }
      ]
    },
    {
      "cell_type": "code",
      "metadata": {
        "colab": {
          "base_uri": "https://localhost:8080/",
          "height": 309
        },
        "id": "3_-GBm1OHGHQ",
        "outputId": "8c76c14e-6450-455c-e81a-328ec0a00a52"
      },
      "source": [
        "dataB.plot()"
      ],
      "execution_count": 163,
      "outputs": [
        {
          "output_type": "execute_result",
          "data": {
            "text/plain": [
              "<matplotlib.axes._subplots.AxesSubplot at 0x7ff7ea488b70>"
            ]
          },
          "metadata": {
            "tags": []
          },
          "execution_count": 163
        },
        {
          "output_type": "display_data",
          "data": {
            "image/png": "[encoded data removed]",
            "text/plain": [
              "<Figure size 432x288 with 1 Axes>"
            ]
          },
          "metadata": {
            "tags": [],
            "needs_background": "light"
          }
        }
      ]
    },
    {
      "cell_type": "code",
      "metadata": {
        "colab": {
          "base_uri": "https://localhost:8080/",
          "height": 545
        },
        "id": "8-S3HU23HUkx",
        "outputId": "b739b1a3-e6a4-4860-98cd-4a18ba3bfc02"
      },
      "source": [
        "from statsmodels.graphics.tsaplots import plot_acf\r\n",
        "plot_acf(dataB)"
      ],
      "execution_count": 164,
      "outputs": [
        {
          "output_type": "execute_result",
          "data": {
            "image/png": "[encoded data removed]",
            "text/plain": [
              "<Figure size 432x288 with 1 Axes>"
            ]
          },
          "metadata": {
            "tags": []
          },
          "execution_count": 164
        },
        {
          "output_type": "display_data",
          "data": {
            "image/png": "[encoded data removed]",
            "text/plain": [
              "<Figure size 432x288 with 1 Axes>"
            ]
          },
          "metadata": {
            "tags": [],
            "needs_background": "light"
          }
        }
      ]
    },
    {
      "cell_type": "code",
      "metadata": {
        "colab": {
          "base_uri": "https://localhost:8080/",
          "height": 450
        },
        "id": "WaVCedVhHr7q",
        "outputId": "5f7533aa-8565-4021-a2f1-e9b3e71ac7cc"
      },
      "source": [
        "dataB_diff=dataB.diff(periods=1)\r\n",
        "dataB_diff = dataB_diff[4:]\r\n",
        "dataB_diff"
      ],
      "execution_count": 182,
      "outputs": [
        {
          "output_type": "execute_result",
          "data": {
            "text/html": [
              "<div>\n",
              "<style scoped>\n",
              "    .dataframe tbody tr th:only-of-type {\n",
              "        vertical-align: middle;\n",
              "    }\n",
              "\n",
              "    .dataframe tbody tr th {\n",
              "        vertical-align: top;\n",
              "    }\n",
              "\n",
              "    .dataframe thead th {\n",
              "        text-align: right;\n",
              "    }\n",
              "</style>\n",
              "<table border=\"1\" class=\"dataframe\">\n",
              "  <thead>\n",
              "    <tr style=\"text-align: right;\">\n",
              "      <th></th>\n",
              "      <th>daily recovery</th>\n",
              "    </tr>\n",
              "    <tr>\n",
              "      <th>Date</th>\n",
              "      <th></th>\n",
              "    </tr>\n",
              "  </thead>\n",
              "  <tbody>\n",
              "    <tr>\n",
              "      <th>2020-04-30</th>\n",
              "      <td>2.0</td>\n",
              "    </tr>\n",
              "    <tr>\n",
              "      <th>2020-05-01</th>\n",
              "      <td>1.0</td>\n",
              "    </tr>\n",
              "    <tr>\n",
              "      <th>2020-05-02</th>\n",
              "      <td>-3.0</td>\n",
              "    </tr>\n",
              "    <tr>\n",
              "      <th>2020-05-03</th>\n",
              "      <td>3.0</td>\n",
              "    </tr>\n",
              "    <tr>\n",
              "      <th>2020-05-04</th>\n",
              "      <td>-1.0</td>\n",
              "    </tr>\n",
              "    <tr>\n",
              "      <th>...</th>\n",
              "      <td>...</td>\n",
              "    </tr>\n",
              "    <tr>\n",
              "      <th>2021-01-01</th>\n",
              "      <td>-31.0</td>\n",
              "    </tr>\n",
              "    <tr>\n",
              "      <th>2021-01-02</th>\n",
              "      <td>8.0</td>\n",
              "    </tr>\n",
              "    <tr>\n",
              "      <th>2021-01-03</th>\n",
              "      <td>24.0</td>\n",
              "    </tr>\n",
              "    <tr>\n",
              "      <th>2021-01-04</th>\n",
              "      <td>-28.0</td>\n",
              "    </tr>\n",
              "    <tr>\n",
              "      <th>2021-01-05</th>\n",
              "      <td>-20.0</td>\n",
              "    </tr>\n",
              "  </tbody>\n",
              "</table>\n",
              "<p>251 rows × 1 columns</p>\n",
              "</div>"
            ],
            "text/plain": [
              "            daily recovery\n",
              "Date                      \n",
              "2020-04-30             2.0\n",
              "2020-05-01             1.0\n",
              "2020-05-02            -3.0\n",
              "2020-05-03             3.0\n",
              "2020-05-04            -1.0\n",
              "...                    ...\n",
              "2021-01-01           -31.0\n",
              "2021-01-02             8.0\n",
              "2021-01-03            24.0\n",
              "2021-01-04           -28.0\n",
              "2021-01-05           -20.0\n",
              "\n",
              "[251 rows x 1 columns]"
            ]
          },
          "metadata": {
            "tags": []
          },
          "execution_count": 182
        }
      ]
    },
    {
      "cell_type": "code",
      "metadata": {
        "colab": {
          "base_uri": "https://localhost:8080/",
          "height": 545
        },
        "id": "z5S4eBUYICVA",
        "outputId": "df5ea57c-d305-476e-a3ec-5408fb7ba6dc"
      },
      "source": [
        "plot_acf(dataB_diff)"
      ],
      "execution_count": 183,
      "outputs": [
        {
          "output_type": "execute_result",
          "data": {
            "image/png": "[encoded data removed]",
            "text/plain": [
              "<Figure size 432x288 with 1 Axes>"
            ]
          },
          "metadata": {
            "tags": []
          },
          "execution_count": 183
        },
        {
          "output_type": "display_data",
          "data": {
            "image/png": "[encoded data removed]",
            "text/plain": [
              "<Figure size 432x288 with 1 Axes>"
            ]
          },
          "metadata": {
            "tags": [],
            "needs_background": "light"
          }
        }
      ]
    },
    {
      "cell_type": "code",
      "metadata": {
        "id": "KbXXl1IVI4lp"
      },
      "source": [
        "Y= dataB.values\r\n",
        "Y.size\r\n",
        "train1 = Y[0:178]\r\n",
        "test1 = Y[178:]\r\n",
        "predictions1 = []\r\n"
      ],
      "execution_count": 192,
      "outputs": []
    },
    {
      "cell_type": "code",
      "metadata": {
        "id": "uNWEUnIMJE5R"
      },
      "source": [
        "from statsmodels.tsa.ar_model import AR\r\n",
        "from sklearn.metrics import mean_squared_error"
      ],
      "execution_count": 193,
      "outputs": []
    },
    {
      "cell_type": "code",
      "metadata": {
        "id": "3T6vzuHFJZ3j"
      },
      "source": [
        "model_arr= AR(train1)\r\n",
        "model_arr_fit=model_ar.fit()"
      ],
      "execution_count": 194,
      "outputs": []
    },
    {
      "cell_type": "code",
      "metadata": {
        "id": "DXtNBxuOJdeD"
      },
      "source": [
        "predictions1 = model_arr_fit.predict(start=178,end=255)"
      ],
      "execution_count": 195,
      "outputs": []
    },
    {
      "cell_type": "code",
      "metadata": {
        "colab": {
          "base_uri": "https://localhost:8080/",
          "height": 282
        },
        "id": "dfKVgQ3hJuPd",
        "outputId": "692e394d-cef6-4a1b-93eb-11f24e1b8694"
      },
      "source": [
        "plt.plot(test)\r\n",
        "plt.plot(predictions1,color='black')"
      ],
      "execution_count": 196,
      "outputs": [
        {
          "output_type": "execute_result",
          "data": {
            "text/plain": [
              "[<matplotlib.lines.Line2D at 0x7ff7ea2734e0>]"
            ]
          },
          "metadata": {
            "tags": []
          },
          "execution_count": 196
        },
        {
          "output_type": "display_data",
          "data": {
            "image/png": "[encoded data removed]",
            "text/plain": [
              "<Figure size 432x288 with 1 Axes>"
            ]
          },
          "metadata": {
            "tags": [],
            "needs_background": "light"
          }
        }
      ]
    },
    {
      "cell_type": "code",
      "metadata": {
        "id": "EYp52dZuJ6pY"
      },
      "source": [
        "from statsmodels.tsa.arima_model import ARIMA"
      ],
      "execution_count": 197,
      "outputs": []
    },
    {
      "cell_type": "code",
      "metadata": {
        "colab": {
          "base_uri": "https://localhost:8080/"
        },
        "id": "vYe6sJuMKC4F",
        "outputId": "2d4e110e-9394-4e4b-ea45-c094e6025f12"
      },
      "source": [
        "model_arima=ARIMA(train,order=(4,1,3))#best fit combo of p,d,q\r\n",
        "model_arima_fit=model_arima.fit()\r\n",
        "print(model_arima_fit.aic)"
      ],
      "execution_count": 213,
      "outputs": [
        {
          "output_type": "stream",
          "text": [
            "3082.805185775991\n"
          ],
          "name": "stdout"
        }
      ]
    },
    {
      "cell_type": "code",
      "metadata": {
        "colab": {
          "base_uri": "https://localhost:8080/"
        },
        "id": "ru45aJtiKJH3",
        "outputId": "e22a3b2a-c16d-4166-bb9a-6effc799a85e"
      },
      "source": [
        "import  itertools\r\n",
        "p=d=q=range(0,8)\r\n",
        "pdq1 = list(itertools.product(p,d,q))\r\n",
        "pdq1"
      ],
      "execution_count": 199,
      "outputs": [
        {
          "output_type": "execute_result",
          "data": {
            "text/plain": [
              "[(0, 0, 0),\n",
              " (0, 0, 1),\n",
              " (0, 0, 2),\n",
              " (0, 0, 3),\n",
              " (0, 0, 4),\n",
              " (0, 0, 5),\n",
              " (0, 0, 6),\n",
              " (0, 0, 7),\n",
              " (0, 1, 0),\n",
              " (0, 1, 1),\n",
              " (0, 1, 2),\n",
              " (0, 1, 3),\n",
              " (0, 1, 4),\n",
              " (0, 1, 5),\n",
              " (0, 1, 6),\n",
              " (0, 1, 7),\n",
              " (0, 2, 0),\n",
              " (0, 2, 1),\n",
              " (0, 2, 2),\n",
              " (0, 2, 3),\n",
              " (0, 2, 4),\n",
              " (0, 2, 5),\n",
              " (0, 2, 6),\n",
              " (0, 2, 7),\n",
              " (0, 3, 0),\n",
              " (0, 3, 1),\n",
              " (0, 3, 2),\n",
              " (0, 3, 3),\n",
              " (0, 3, 4),\n",
              " (0, 3, 5),\n",
              " (0, 3, 6),\n",
              " (0, 3, 7),\n",
              " (0, 4, 0),\n",
              " (0, 4, 1),\n",
              " (0, 4, 2),\n",
              " (0, 4, 3),\n",
              " (0, 4, 4),\n",
              " (0, 4, 5),\n",
              " (0, 4, 6),\n",
              " (0, 4, 7),\n",
              " (0, 5, 0),\n",
              " (0, 5, 1),\n",
              " (0, 5, 2),\n",
              " (0, 5, 3),\n",
              " (0, 5, 4),\n",
              " (0, 5, 5),\n",
              " (0, 5, 6),\n",
              " (0, 5, 7),\n",
              " (0, 6, 0),\n",
              " (0, 6, 1),\n",
              " (0, 6, 2),\n",
              " (0, 6, 3),\n",
              " (0, 6, 4),\n",
              " (0, 6, 5),\n",
              " (0, 6, 6),\n",
              " (0, 6, 7),\n",
              " (0, 7, 0),\n",
              " (0, 7, 1),\n",
              " (0, 7, 2),\n",
              " (0, 7, 3),\n",
              " (0, 7, 4),\n",
              " (0, 7, 5),\n",
              " (0, 7, 6),\n",
              " (0, 7, 7),\n",
              " (1, 0, 0),\n",
              " (1, 0, 1),\n",
              " (1, 0, 2),\n",
              " (1, 0, 3),\n",
              " (1, 0, 4),\n",
              " (1, 0, 5),\n",
              " (1, 0, 6),\n",
              " (1, 0, 7),\n",
              " (1, 1, 0),\n",
              " (1, 1, 1),\n",
              " (1, 1, 2),\n",
              " (1, 1, 3),\n",
              " (1, 1, 4),\n",
              " (1, 1, 5),\n",
              " (1, 1, 6),\n",
              " (1, 1, 7),\n",
              " (1, 2, 0),\n",
              " (1, 2, 1),\n",
              " (1, 2, 2),\n",
              " (1, 2, 3),\n",
              " (1, 2, 4),\n",
              " (1, 2, 5),\n",
              " (1, 2, 6),\n",
              " (1, 2, 7),\n",
              " (1, 3, 0),\n",
              " (1, 3, 1),\n",
              " (1, 3, 2),\n",
              " (1, 3, 3),\n",
              " (1, 3, 4),\n",
              " (1, 3, 5),\n",
              " (1, 3, 6),\n",
              " (1, 3, 7),\n",
              " (1, 4, 0),\n",
              " (1, 4, 1),\n",
              " (1, 4, 2),\n",
              " (1, 4, 3),\n",
              " (1, 4, 4),\n",
              " (1, 4, 5),\n",
              " (1, 4, 6),\n",
              " (1, 4, 7),\n",
              " (1, 5, 0),\n",
              " (1, 5, 1),\n",
              " (1, 5, 2),\n",
              " (1, 5, 3),\n",
              " (1, 5, 4),\n",
              " (1, 5, 5),\n",
              " (1, 5, 6),\n",
              " (1, 5, 7),\n",
              " (1, 6, 0),\n",
              " (1, 6, 1),\n",
              " (1, 6, 2),\n",
              " (1, 6, 3),\n",
              " (1, 6, 4),\n",
              " (1, 6, 5),\n",
              " (1, 6, 6),\n",
              " (1, 6, 7),\n",
              " (1, 7, 0),\n",
              " (1, 7, 1),\n",
              " (1, 7, 2),\n",
              " (1, 7, 3),\n",
              " (1, 7, 4),\n",
              " (1, 7, 5),\n",
              " (1, 7, 6),\n",
              " (1, 7, 7),\n",
              " (2, 0, 0),\n",
              " (2, 0, 1),\n",
              " (2, 0, 2),\n",
              " (2, 0, 3),\n",
              " (2, 0, 4),\n",
              " (2, 0, 5),\n",
              " (2, 0, 6),\n",
              " (2, 0, 7),\n",
              " (2, 1, 0),\n",
              " (2, 1, 1),\n",
              " (2, 1, 2),\n",
              " (2, 1, 3),\n",
              " (2, 1, 4),\n",
              " (2, 1, 5),\n",
              " (2, 1, 6),\n",
              " (2, 1, 7),\n",
              " (2, 2, 0),\n",
              " (2, 2, 1),\n",
              " (2, 2, 2),\n",
              " (2, 2, 3),\n",
              " (2, 2, 4),\n",
              " (2, 2, 5),\n",
              " (2, 2, 6),\n",
              " (2, 2, 7),\n",
              " (2, 3, 0),\n",
              " (2, 3, 1),\n",
              " (2, 3, 2),\n",
              " (2, 3, 3),\n",
              " (2, 3, 4),\n",
              " (2, 3, 5),\n",
              " (2, 3, 6),\n",
              " (2, 3, 7),\n",
              " (2, 4, 0),\n",
              " (2, 4, 1),\n",
              " (2, 4, 2),\n",
              " (2, 4, 3),\n",
              " (2, 4, 4),\n",
              " (2, 4, 5),\n",
              " (2, 4, 6),\n",
              " (2, 4, 7),\n",
              " (2, 5, 0),\n",
              " (2, 5, 1),\n",
              " (2, 5, 2),\n",
              " (2, 5, 3),\n",
              " (2, 5, 4),\n",
              " (2, 5, 5),\n",
              " (2, 5, 6),\n",
              " (2, 5, 7),\n",
              " (2, 6, 0),\n",
              " (2, 6, 1),\n",
              " (2, 6, 2),\n",
              " (2, 6, 3),\n",
              " (2, 6, 4),\n",
              " (2, 6, 5),\n",
              " (2, 6, 6),\n",
              " (2, 6, 7),\n",
              " (2, 7, 0),\n",
              " (2, 7, 1),\n",
              " (2, 7, 2),\n",
              " (2, 7, 3),\n",
              " (2, 7, 4),\n",
              " (2, 7, 5),\n",
              " (2, 7, 6),\n",
              " (2, 7, 7),\n",
              " (3, 0, 0),\n",
              " (3, 0, 1),\n",
              " (3, 0, 2),\n",
              " (3, 0, 3),\n",
              " (3, 0, 4),\n",
              " (3, 0, 5),\n",
              " (3, 0, 6),\n",
              " (3, 0, 7),\n",
              " (3, 1, 0),\n",
              " (3, 1, 1),\n",
              " (3, 1, 2),\n",
              " (3, 1, 3),\n",
              " (3, 1, 4),\n",
              " (3, 1, 5),\n",
              " (3, 1, 6),\n",
              " (3, 1, 7),\n",
              " (3, 2, 0),\n",
              " (3, 2, 1),\n",
              " (3, 2, 2),\n",
              " (3, 2, 3),\n",
              " (3, 2, 4),\n",
              " (3, 2, 5),\n",
              " (3, 2, 6),\n",
              " (3, 2, 7),\n",
              " (3, 3, 0),\n",
              " (3, 3, 1),\n",
              " (3, 3, 2),\n",
              " (3, 3, 3),\n",
              " (3, 3, 4),\n",
              " (3, 3, 5),\n",
              " (3, 3, 6),\n",
              " (3, 3, 7),\n",
              " (3, 4, 0),\n",
              " (3, 4, 1),\n",
              " (3, 4, 2),\n",
              " (3, 4, 3),\n",
              " (3, 4, 4),\n",
              " (3, 4, 5),\n",
              " (3, 4, 6),\n",
              " (3, 4, 7),\n",
              " (3, 5, 0),\n",
              " (3, 5, 1),\n",
              " (3, 5, 2),\n",
              " (3, 5, 3),\n",
              " (3, 5, 4),\n",
              " (3, 5, 5),\n",
              " (3, 5, 6),\n",
              " (3, 5, 7),\n",
              " (3, 6, 0),\n",
              " (3, 6, 1),\n",
              " (3, 6, 2),\n",
              " (3, 6, 3),\n",
              " (3, 6, 4),\n",
              " (3, 6, 5),\n",
              " (3, 6, 6),\n",
              " (3, 6, 7),\n",
              " (3, 7, 0),\n",
              " (3, 7, 1),\n",
              " (3, 7, 2),\n",
              " (3, 7, 3),\n",
              " (3, 7, 4),\n",
              " (3, 7, 5),\n",
              " (3, 7, 6),\n",
              " (3, 7, 7),\n",
              " (4, 0, 0),\n",
              " (4, 0, 1),\n",
              " (4, 0, 2),\n",
              " (4, 0, 3),\n",
              " (4, 0, 4),\n",
              " (4, 0, 5),\n",
              " (4, 0, 6),\n",
              " (4, 0, 7),\n",
              " (4, 1, 0),\n",
              " (4, 1, 1),\n",
              " (4, 1, 2),\n",
              " (4, 1, 3),\n",
              " (4, 1, 4),\n",
              " (4, 1, 5),\n",
              " (4, 1, 6),\n",
              " (4, 1, 7),\n",
              " (4, 2, 0),\n",
              " (4, 2, 1),\n",
              " (4, 2, 2),\n",
              " (4, 2, 3),\n",
              " (4, 2, 4),\n",
              " (4, 2, 5),\n",
              " (4, 2, 6),\n",
              " (4, 2, 7),\n",
              " (4, 3, 0),\n",
              " (4, 3, 1),\n",
              " (4, 3, 2),\n",
              " (4, 3, 3),\n",
              " (4, 3, 4),\n",
              " (4, 3, 5),\n",
              " (4, 3, 6),\n",
              " (4, 3, 7),\n",
              " (4, 4, 0),\n",
              " (4, 4, 1),\n",
              " (4, 4, 2),\n",
              " (4, 4, 3),\n",
              " (4, 4, 4),\n",
              " (4, 4, 5),\n",
              " (4, 4, 6),\n",
              " (4, 4, 7),\n",
              " (4, 5, 0),\n",
              " (4, 5, 1),\n",
              " (4, 5, 2),\n",
              " (4, 5, 3),\n",
              " (4, 5, 4),\n",
              " (4, 5, 5),\n",
              " (4, 5, 6),\n",
              " (4, 5, 7),\n",
              " (4, 6, 0),\n",
              " (4, 6, 1),\n",
              " (4, 6, 2),\n",
              " (4, 6, 3),\n",
              " (4, 6, 4),\n",
              " (4, 6, 5),\n",
              " (4, 6, 6),\n",
              " (4, 6, 7),\n",
              " (4, 7, 0),\n",
              " (4, 7, 1),\n",
              " (4, 7, 2),\n",
              " (4, 7, 3),\n",
              " (4, 7, 4),\n",
              " (4, 7, 5),\n",
              " (4, 7, 6),\n",
              " (4, 7, 7),\n",
              " (5, 0, 0),\n",
              " (5, 0, 1),\n",
              " (5, 0, 2),\n",
              " (5, 0, 3),\n",
              " (5, 0, 4),\n",
              " (5, 0, 5),\n",
              " (5, 0, 6),\n",
              " (5, 0, 7),\n",
              " (5, 1, 0),\n",
              " (5, 1, 1),\n",
              " (5, 1, 2),\n",
              " (5, 1, 3),\n",
              " (5, 1, 4),\n",
              " (5, 1, 5),\n",
              " (5, 1, 6),\n",
              " (5, 1, 7),\n",
              " (5, 2, 0),\n",
              " (5, 2, 1),\n",
              " (5, 2, 2),\n",
              " (5, 2, 3),\n",
              " (5, 2, 4),\n",
              " (5, 2, 5),\n",
              " (5, 2, 6),\n",
              " (5, 2, 7),\n",
              " (5, 3, 0),\n",
              " (5, 3, 1),\n",
              " (5, 3, 2),\n",
              " (5, 3, 3),\n",
              " (5, 3, 4),\n",
              " (5, 3, 5),\n",
              " (5, 3, 6),\n",
              " (5, 3, 7),\n",
              " (5, 4, 0),\n",
              " (5, 4, 1),\n",
              " (5, 4, 2),\n",
              " (5, 4, 3),\n",
              " (5, 4, 4),\n",
              " (5, 4, 5),\n",
              " (5, 4, 6),\n",
              " (5, 4, 7),\n",
              " (5, 5, 0),\n",
              " (5, 5, 1),\n",
              " (5, 5, 2),\n",
              " (5, 5, 3),\n",
              " (5, 5, 4),\n",
              " (5, 5, 5),\n",
              " (5, 5, 6),\n",
              " (5, 5, 7),\n",
              " (5, 6, 0),\n",
              " (5, 6, 1),\n",
              " (5, 6, 2),\n",
              " (5, 6, 3),\n",
              " (5, 6, 4),\n",
              " (5, 6, 5),\n",
              " (5, 6, 6),\n",
              " (5, 6, 7),\n",
              " (5, 7, 0),\n",
              " (5, 7, 1),\n",
              " (5, 7, 2),\n",
              " (5, 7, 3),\n",
              " (5, 7, 4),\n",
              " (5, 7, 5),\n",
              " (5, 7, 6),\n",
              " (5, 7, 7),\n",
              " (6, 0, 0),\n",
              " (6, 0, 1),\n",
              " (6, 0, 2),\n",
              " (6, 0, 3),\n",
              " (6, 0, 4),\n",
              " (6, 0, 5),\n",
              " (6, 0, 6),\n",
              " (6, 0, 7),\n",
              " (6, 1, 0),\n",
              " (6, 1, 1),\n",
              " (6, 1, 2),\n",
              " (6, 1, 3),\n",
              " (6, 1, 4),\n",
              " (6, 1, 5),\n",
              " (6, 1, 6),\n",
              " (6, 1, 7),\n",
              " (6, 2, 0),\n",
              " (6, 2, 1),\n",
              " (6, 2, 2),\n",
              " (6, 2, 3),\n",
              " (6, 2, 4),\n",
              " (6, 2, 5),\n",
              " (6, 2, 6),\n",
              " (6, 2, 7),\n",
              " (6, 3, 0),\n",
              " (6, 3, 1),\n",
              " (6, 3, 2),\n",
              " (6, 3, 3),\n",
              " (6, 3, 4),\n",
              " (6, 3, 5),\n",
              " (6, 3, 6),\n",
              " (6, 3, 7),\n",
              " (6, 4, 0),\n",
              " (6, 4, 1),\n",
              " (6, 4, 2),\n",
              " (6, 4, 3),\n",
              " (6, 4, 4),\n",
              " (6, 4, 5),\n",
              " (6, 4, 6),\n",
              " (6, 4, 7),\n",
              " (6, 5, 0),\n",
              " (6, 5, 1),\n",
              " (6, 5, 2),\n",
              " (6, 5, 3),\n",
              " (6, 5, 4),\n",
              " (6, 5, 5),\n",
              " (6, 5, 6),\n",
              " (6, 5, 7),\n",
              " (6, 6, 0),\n",
              " (6, 6, 1),\n",
              " (6, 6, 2),\n",
              " (6, 6, 3),\n",
              " (6, 6, 4),\n",
              " (6, 6, 5),\n",
              " (6, 6, 6),\n",
              " (6, 6, 7),\n",
              " (6, 7, 0),\n",
              " (6, 7, 1),\n",
              " (6, 7, 2),\n",
              " (6, 7, 3),\n",
              " (6, 7, 4),\n",
              " (6, 7, 5),\n",
              " (6, 7, 6),\n",
              " (6, 7, 7),\n",
              " (7, 0, 0),\n",
              " (7, 0, 1),\n",
              " (7, 0, 2),\n",
              " (7, 0, 3),\n",
              " (7, 0, 4),\n",
              " (7, 0, 5),\n",
              " (7, 0, 6),\n",
              " (7, 0, 7),\n",
              " (7, 1, 0),\n",
              " (7, 1, 1),\n",
              " (7, 1, 2),\n",
              " (7, 1, 3),\n",
              " (7, 1, 4),\n",
              " (7, 1, 5),\n",
              " (7, 1, 6),\n",
              " (7, 1, 7),\n",
              " (7, 2, 0),\n",
              " (7, 2, 1),\n",
              " (7, 2, 2),\n",
              " (7, 2, 3),\n",
              " (7, 2, 4),\n",
              " (7, 2, 5),\n",
              " (7, 2, 6),\n",
              " (7, 2, 7),\n",
              " (7, 3, 0),\n",
              " (7, 3, 1),\n",
              " (7, 3, 2),\n",
              " (7, 3, 3),\n",
              " (7, 3, 4),\n",
              " (7, 3, 5),\n",
              " (7, 3, 6),\n",
              " (7, 3, 7),\n",
              " (7, 4, 0),\n",
              " (7, 4, 1),\n",
              " (7, 4, 2),\n",
              " (7, 4, 3),\n",
              " (7, 4, 4),\n",
              " (7, 4, 5),\n",
              " (7, 4, 6),\n",
              " (7, 4, 7),\n",
              " (7, 5, 0),\n",
              " (7, 5, 1),\n",
              " (7, 5, 2),\n",
              " (7, 5, 3),\n",
              " (7, 5, 4),\n",
              " (7, 5, 5),\n",
              " (7, 5, 6),\n",
              " (7, 5, 7),\n",
              " (7, 6, 0),\n",
              " (7, 6, 1),\n",
              " (7, 6, 2),\n",
              " (7, 6, 3),\n",
              " (7, 6, 4),\n",
              " (7, 6, 5),\n",
              " (7, 6, 6),\n",
              " (7, 6, 7),\n",
              " (7, 7, 0),\n",
              " (7, 7, 1),\n",
              " (7, 7, 2),\n",
              " (7, 7, 3),\n",
              " (7, 7, 4),\n",
              " (7, 7, 5),\n",
              " (7, 7, 6),\n",
              " (7, 7, 7)]"
            ]
          },
          "metadata": {
            "tags": []
          },
          "execution_count": 199
        }
      ]
    },
    {
      "cell_type": "code",
      "metadata": {
        "colab": {
          "base_uri": "https://localhost:8080/"
        },
        "id": "-tkdr5diKTwE",
        "outputId": "65014319-acad-4733-cba2-12d6da94666d"
      },
      "source": [
        "for param in pdq1:\r\n",
        "  try:\r\n",
        "    model_arima=ARIMA(train,order=param)\r\n",
        "    model_arima_fit=model_arima.fit()\r\n",
        "    print(param,model_arima_fit.aic)\r\n",
        "  except:\r\n",
        "    continue "
      ],
      "execution_count": 200,
      "outputs": [
        {
          "output_type": "stream",
          "text": [
            "(0, 0, 0) 3222.210135710053\n",
            "(0, 0, 1) 3181.2191825982773\n",
            "(0, 0, 2) 3158.9825910512563\n",
            "(0, 0, 3) 3152.7979213369827\n",
            "(0, 0, 4) 3145.410571809195\n",
            "(0, 0, 5) 3141.0953263810097\n",
            "(0, 0, 6) 3134.183769626584\n",
            "(0, 0, 7) 3135.2364267957846\n",
            "(0, 1, 0) 3178.9588715207497\n",
            "(0, 1, 1) 3078.9544255460323\n",
            "(0, 1, 2) 3080.897223271047\n",
            "(0, 2, 0) 3378.8734218336967\n",
            "(0, 2, 1) 3171.2684300506558\n",
            "(1, 0, 0) 3147.654182381125\n",
            "(1, 0, 1) 3094.705991759304\n",
            "(1, 0, 2) 3096.666023266519\n",
            "(1, 1, 0) 3129.093006078525\n",
            "(1, 1, 1) 3080.897864525252\n",
            "(1, 1, 2) 3080.710025373784\n",
            "(1, 1, 3) 3081.8164475114904\n",
            "(1, 1, 4) 3082.838446173244\n",
            "(1, 1, 5) 3084.7619562085692\n",
            "(1, 1, 6) 3084.8201472620617\n",
            "(1, 2, 0) 3263.4041668982154\n",
            "(2, 0, 0) 3126.0549276050488\n",
            "(2, 0, 1) 3096.66665650525\n",
            "(2, 0, 2) 3096.4336295053517\n",
            "(2, 1, 0) 3116.3307637262897\n",
            "(2, 1, 1) 3082.8888086106517\n",
            "(2, 1, 2) 3081.9614299911673\n",
            "(2, 1, 3) 3078.814613993566\n",
            "(2, 1, 4) 3080.8065370867357\n",
            "(2, 1, 5) 3082.8030387220656\n",
            "(2, 1, 6) 3083.306714247321\n",
            "(2, 1, 7) 3088.4522907871865\n",
            "(2, 2, 0) 3223.786938025538\n",
            "(3, 0, 0) 3120.8772007226007\n",
            "(3, 0, 1) 3098.651983429265\n",
            "(3, 1, 0) 3101.737224705138\n",
            "(3, 1, 1) 3083.232415950269\n",
            "(3, 1, 2) 3082.947245828104\n",
            "(3, 1, 3) 3083.9745626823114\n",
            "(3, 2, 0) 3188.5730317635725\n",
            "(3, 2, 1) 3095.9787554341165\n",
            "(4, 0, 0) 3111.532763895848\n",
            "(4, 0, 1) 3098.922630809252\n",
            "(4, 1, 0) 3097.847561938775\n",
            "(4, 1, 1) 3085.231642651536\n",
            "(4, 1, 3) 3082.805185775991\n",
            "(4, 2, 0) 3173.069448683006\n",
            "(4, 2, 1) 3092.3325834390257\n",
            "(5, 0, 0) 3109.6290655133816\n",
            "(5, 0, 1) 3100.922627421266\n",
            "(5, 0, 5) 3098.4587916916007\n",
            "(5, 1, 0) 3091.1387223409565\n",
            "(5, 1, 1) 3086.704423046912\n",
            "(5, 1, 3) 3083.358881490681\n",
            "(5, 2, 0) 3147.2997296432\n",
            "(5, 2, 1) 3085.87276722239\n",
            "(5, 2, 2) 3088.7246597918006\n",
            "(6, 0, 0) 3104.666357061813\n",
            "(6, 0, 1) 3102.3517272444906\n",
            "(6, 0, 2) 3101.611717353876\n",
            "(6, 0, 3) 3099.0448702968743\n",
            "(6, 1, 0) 3092.866697255054\n",
            "(6, 1, 1) 3088.3788786231185\n",
            "(6, 1, 2) 3087.7595857281644\n",
            "(6, 2, 0) 3141.7944920418067\n",
            "(6, 2, 1) 3087.6357676106772\n",
            "(6, 2, 2) 3088.739771514117\n",
            "(7, 0, 0) 3106.5889612092087\n",
            "(7, 0, 1) 3104.0422577075324\n",
            "(7, 0, 2) 3103.43344054721\n"
          ],
          "name": "stdout"
        },
        {
          "output_type": "stream",
          "text": [
            "/usr/local/lib/python3.6/dist-packages/statsmodels/tsa/tsatools.py:695: RuntimeWarning:\n",
            "\n",
            "divide by zero encountered in log\n",
            "\n",
            "/usr/local/lib/python3.6/dist-packages/statsmodels/tsa/tsatools.py:695: RuntimeWarning:\n",
            "\n",
            "invalid value encountered in log\n",
            "\n"
          ],
          "name": "stderr"
        },
        {
          "output_type": "stream",
          "text": [
            "(7, 0, 4) 3103.075960225953\n",
            "(7, 1, 0) 3091.001910957555\n",
            "(7, 1, 1) 3087.545085332941\n",
            "(7, 1, 2) 3088.4843158826593\n",
            "(7, 1, 3) 3088.219919481344\n",
            "(7, 2, 0) 3136.1496283664565\n",
            "(7, 2, 1) 3085.870057169542\n",
            "(7, 2, 2) 3088.2220586130925\n",
            "(7, 2, 3) 3089.2717908992395\n"
          ],
          "name": "stdout"
        }
      ]
    },
    {
      "cell_type": "code",
      "metadata": {
        "colab": {
          "base_uri": "https://localhost:8080/"
        },
        "id": "O6UelxEnKb_Z",
        "outputId": "d01b1342-c2d1-4654-e68f-96d25cee9777"
      },
      "source": [
        "predictions1= model_arima_fit.forecast(steps=40)[0]\r\n",
        "predictions1"
      ],
      "execution_count": 214,
      "outputs": [
        {
          "output_type": "execute_result",
          "data": {
            "text/plain": [
              "array([251.96996902, 362.60737569, 266.78584253, 347.06875472,\n",
              "       291.01271939, 327.79489462, 316.19045835, 310.56144891,\n",
              "       336.80583011, 299.81961279, 349.64786007, 297.47762506,\n",
              "       354.08302436, 303.0018934 , 351.64107634, 314.08229476,\n",
              "       345.17115124, 327.57892221, 337.86575412, 340.46046293,\n",
              "       332.41665745, 350.51012785, 330.47692979, 356.68028085,\n",
              "       332.49131148, 359.08762265, 337.85479384, 358.72911336,\n",
              "       345.28906692, 357.04842293, 353.29830548, 355.49015035,\n",
              "       360.57711767, 355.15182474, 366.28295783, 356.59597333,\n",
              "       370.13721631, 359.83231109, 372.36831402, 364.43693832])"
            ]
          },
          "metadata": {
            "tags": []
          },
          "execution_count": 214
        }
      ]
    },
    {
      "cell_type": "code",
      "metadata": {
        "colab": {
          "base_uri": "https://localhost:8080/",
          "height": 282
        },
        "id": "F4RHsst_K9PS",
        "outputId": "3f42d4dd-7a2b-4710-94f0-9f4c99361505"
      },
      "source": [
        "plt.plot(test)\r\n",
        "plt.plot(predictions1,color='black')"
      ],
      "execution_count": 215,
      "outputs": [
        {
          "output_type": "execute_result",
          "data": {
            "text/plain": [
              "[<matplotlib.lines.Line2D at 0x7ff7e9fdea58>]"
            ]
          },
          "metadata": {
            "tags": []
          },
          "execution_count": 215
        },
        {
          "output_type": "display_data",
          "data": {
            "image/png": "[encoded data removed]",
            "text/plain": [
              "<Figure size 432x288 with 1 Axes>"
            ]
          },
          "metadata": {
            "tags": [],
            "needs_background": "light"
          }
        }
      ]
    },
    {
      "cell_type": "code",
      "metadata": {
        "id": "6oda9W4JLExQ"
      },
      "source": [
        "SSS"
      ],
      "execution_count": null,
      "outputs": []
    }
  ]
}